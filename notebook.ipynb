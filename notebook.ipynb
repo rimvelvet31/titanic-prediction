{
 "cells": [
  {
   "cell_type": "markdown",
   "id": "d53a8f19",
   "metadata": {},
   "source": [
    "# Load Data and Dependencies"
   ]
  },
  {
   "cell_type": "code",
   "execution_count": null,
   "id": "dafd3933",
   "metadata": {},
   "outputs": [
    {
     "data": {
      "application/vnd.microsoft.datawrangler.viewer.v0+json": {
       "columns": [
        {
         "name": "index",
         "rawType": "int64",
         "type": "integer"
        },
        {
         "name": "PassengerId",
         "rawType": "int64",
         "type": "integer"
        },
        {
         "name": "Survived",
         "rawType": "int64",
         "type": "integer"
        },
        {
         "name": "Pclass",
         "rawType": "int64",
         "type": "integer"
        },
        {
         "name": "Name",
         "rawType": "object",
         "type": "string"
        },
        {
         "name": "Sex",
         "rawType": "object",
         "type": "string"
        },
        {
         "name": "Age",
         "rawType": "float64",
         "type": "float"
        },
        {
         "name": "SibSp",
         "rawType": "int64",
         "type": "integer"
        },
        {
         "name": "Parch",
         "rawType": "int64",
         "type": "integer"
        },
        {
         "name": "Ticket",
         "rawType": "object",
         "type": "string"
        },
        {
         "name": "Fare",
         "rawType": "float64",
         "type": "float"
        },
        {
         "name": "Cabin",
         "rawType": "object",
         "type": "unknown"
        },
        {
         "name": "Embarked",
         "rawType": "object",
         "type": "string"
        }
       ],
       "ref": "2b065451-3245-4d23-809e-aa6b6b166cb1",
       "rows": [
        [
         "0",
         "1",
         "0",
         "3",
         "Braund, Mr. Owen Harris",
         "male",
         "22.0",
         "1",
         "0",
         "A/5 21171",
         "7.25",
         null,
         "S"
        ],
        [
         "1",
         "2",
         "1",
         "1",
         "Cumings, Mrs. John Bradley (Florence Briggs Thayer)",
         "female",
         "38.0",
         "1",
         "0",
         "PC 17599",
         "71.2833",
         "C85",
         "C"
        ],
        [
         "2",
         "3",
         "1",
         "3",
         "Heikkinen, Miss. Laina",
         "female",
         "26.0",
         "0",
         "0",
         "STON/O2. 3101282",
         "7.925",
         null,
         "S"
        ],
        [
         "3",
         "4",
         "1",
         "1",
         "Futrelle, Mrs. Jacques Heath (Lily May Peel)",
         "female",
         "35.0",
         "1",
         "0",
         "113803",
         "53.1",
         "C123",
         "S"
        ],
        [
         "4",
         "5",
         "0",
         "3",
         "Allen, Mr. William Henry",
         "male",
         "35.0",
         "0",
         "0",
         "373450",
         "8.05",
         null,
         "S"
        ]
       ],
       "shape": {
        "columns": 12,
        "rows": 5
       }
      },
      "text/html": [
       "<div>\n",
       "<style scoped>\n",
       "    .dataframe tbody tr th:only-of-type {\n",
       "        vertical-align: middle;\n",
       "    }\n",
       "\n",
       "    .dataframe tbody tr th {\n",
       "        vertical-align: top;\n",
       "    }\n",
       "\n",
       "    .dataframe thead th {\n",
       "        text-align: right;\n",
       "    }\n",
       "</style>\n",
       "<table border=\"1\" class=\"dataframe\">\n",
       "  <thead>\n",
       "    <tr style=\"text-align: right;\">\n",
       "      <th></th>\n",
       "      <th>PassengerId</th>\n",
       "      <th>Survived</th>\n",
       "      <th>Pclass</th>\n",
       "      <th>Name</th>\n",
       "      <th>Sex</th>\n",
       "      <th>Age</th>\n",
       "      <th>SibSp</th>\n",
       "      <th>Parch</th>\n",
       "      <th>Ticket</th>\n",
       "      <th>Fare</th>\n",
       "      <th>Cabin</th>\n",
       "      <th>Embarked</th>\n",
       "    </tr>\n",
       "  </thead>\n",
       "  <tbody>\n",
       "    <tr>\n",
       "      <th>0</th>\n",
       "      <td>1</td>\n",
       "      <td>0</td>\n",
       "      <td>3</td>\n",
       "      <td>Braund, Mr. Owen Harris</td>\n",
       "      <td>male</td>\n",
       "      <td>22.0</td>\n",
       "      <td>1</td>\n",
       "      <td>0</td>\n",
       "      <td>A/5 21171</td>\n",
       "      <td>7.2500</td>\n",
       "      <td>NaN</td>\n",
       "      <td>S</td>\n",
       "    </tr>\n",
       "    <tr>\n",
       "      <th>1</th>\n",
       "      <td>2</td>\n",
       "      <td>1</td>\n",
       "      <td>1</td>\n",
       "      <td>Cumings, Mrs. John Bradley (Florence Briggs Th...</td>\n",
       "      <td>female</td>\n",
       "      <td>38.0</td>\n",
       "      <td>1</td>\n",
       "      <td>0</td>\n",
       "      <td>PC 17599</td>\n",
       "      <td>71.2833</td>\n",
       "      <td>C85</td>\n",
       "      <td>C</td>\n",
       "    </tr>\n",
       "    <tr>\n",
       "      <th>2</th>\n",
       "      <td>3</td>\n",
       "      <td>1</td>\n",
       "      <td>3</td>\n",
       "      <td>Heikkinen, Miss. Laina</td>\n",
       "      <td>female</td>\n",
       "      <td>26.0</td>\n",
       "      <td>0</td>\n",
       "      <td>0</td>\n",
       "      <td>STON/O2. 3101282</td>\n",
       "      <td>7.9250</td>\n",
       "      <td>NaN</td>\n",
       "      <td>S</td>\n",
       "    </tr>\n",
       "    <tr>\n",
       "      <th>3</th>\n",
       "      <td>4</td>\n",
       "      <td>1</td>\n",
       "      <td>1</td>\n",
       "      <td>Futrelle, Mrs. Jacques Heath (Lily May Peel)</td>\n",
       "      <td>female</td>\n",
       "      <td>35.0</td>\n",
       "      <td>1</td>\n",
       "      <td>0</td>\n",
       "      <td>113803</td>\n",
       "      <td>53.1000</td>\n",
       "      <td>C123</td>\n",
       "      <td>S</td>\n",
       "    </tr>\n",
       "    <tr>\n",
       "      <th>4</th>\n",
       "      <td>5</td>\n",
       "      <td>0</td>\n",
       "      <td>3</td>\n",
       "      <td>Allen, Mr. William Henry</td>\n",
       "      <td>male</td>\n",
       "      <td>35.0</td>\n",
       "      <td>0</td>\n",
       "      <td>0</td>\n",
       "      <td>373450</td>\n",
       "      <td>8.0500</td>\n",
       "      <td>NaN</td>\n",
       "      <td>S</td>\n",
       "    </tr>\n",
       "  </tbody>\n",
       "</table>\n",
       "</div>"
      ],
      "text/plain": [
       "   PassengerId  Survived  Pclass  \\\n",
       "0            1         0       3   \n",
       "1            2         1       1   \n",
       "2            3         1       3   \n",
       "3            4         1       1   \n",
       "4            5         0       3   \n",
       "\n",
       "                                                Name     Sex   Age  SibSp  \\\n",
       "0                            Braund, Mr. Owen Harris    male  22.0      1   \n",
       "1  Cumings, Mrs. John Bradley (Florence Briggs Th...  female  38.0      1   \n",
       "2                             Heikkinen, Miss. Laina  female  26.0      0   \n",
       "3       Futrelle, Mrs. Jacques Heath (Lily May Peel)  female  35.0      1   \n",
       "4                           Allen, Mr. William Henry    male  35.0      0   \n",
       "\n",
       "   Parch            Ticket     Fare Cabin Embarked  \n",
       "0      0         A/5 21171   7.2500   NaN        S  \n",
       "1      0          PC 17599  71.2833   C85        C  \n",
       "2      0  STON/O2. 3101282   7.9250   NaN        S  \n",
       "3      0            113803  53.1000  C123        S  \n",
       "4      0            373450   8.0500   NaN        S  "
      ]
     },
     "execution_count": 31,
     "metadata": {},
     "output_type": "execute_result"
    }
   ],
   "source": [
    "import pandas as pd\n",
    "import seaborn as sns\n",
    "import matplotlib.pyplot as plt\n",
    "\n",
    "\n",
    "RANDOM_STATE = 1\n",
    "\n",
    "train_data = pd.read_csv(\"data/train.csv\")\n",
    "train_data.head()"
   ]
  },
  {
   "cell_type": "code",
   "execution_count": 2,
   "id": "ee087bae",
   "metadata": {},
   "outputs": [
    {
     "name": "stdout",
     "output_type": "stream",
     "text": [
      "Number of rows: 891\n",
      "Number of columns: 12\n"
     ]
    }
   ],
   "source": [
    "rows, cols = train_data.shape\n",
    "\n",
    "print(f\"Number of rows: {rows}\")\n",
    "print(f\"Number of columns: {cols}\")"
   ]
  },
  {
   "cell_type": "code",
   "execution_count": 3,
   "id": "124e840f",
   "metadata": {},
   "outputs": [
    {
     "name": "stdout",
     "output_type": "stream",
     "text": [
      "<class 'pandas.core.frame.DataFrame'>\n",
      "RangeIndex: 891 entries, 0 to 890\n",
      "Data columns (total 12 columns):\n",
      " #   Column       Non-Null Count  Dtype  \n",
      "---  ------       --------------  -----  \n",
      " 0   PassengerId  891 non-null    int64  \n",
      " 1   Survived     891 non-null    int64  \n",
      " 2   Pclass       891 non-null    int64  \n",
      " 3   Name         891 non-null    object \n",
      " 4   Sex          891 non-null    object \n",
      " 5   Age          714 non-null    float64\n",
      " 6   SibSp        891 non-null    int64  \n",
      " 7   Parch        891 non-null    int64  \n",
      " 8   Ticket       891 non-null    object \n",
      " 9   Fare         891 non-null    float64\n",
      " 10  Cabin        204 non-null    object \n",
      " 11  Embarked     889 non-null    object \n",
      "dtypes: float64(2), int64(5), object(5)\n",
      "memory usage: 83.7+ KB\n"
     ]
    }
   ],
   "source": [
    "train_data.info()"
   ]
  },
  {
   "cell_type": "markdown",
   "id": "169e6658",
   "metadata": {},
   "source": [
    "# Data Cleaning"
   ]
  },
  {
   "cell_type": "code",
   "execution_count": 4,
   "id": "bfb2d7c9",
   "metadata": {},
   "outputs": [],
   "source": [
    "train_data_cleaned = train_data.copy()"
   ]
  },
  {
   "cell_type": "markdown",
   "id": "e4a96174",
   "metadata": {},
   "source": [
    "## Duplicates"
   ]
  },
  {
   "cell_type": "code",
   "execution_count": 5,
   "id": "0e8b5412",
   "metadata": {},
   "outputs": [
    {
     "name": "stdout",
     "output_type": "stream",
     "text": [
      "Duplicates records: 0\n"
     ]
    }
   ],
   "source": [
    "print(\"Duplicates records:\", train_data.duplicated().sum())"
   ]
  },
  {
   "cell_type": "markdown",
   "id": "de2967cc",
   "metadata": {},
   "source": [
    "There are no duplicated rows, so we can move on to the next step."
   ]
  },
  {
   "cell_type": "markdown",
   "id": "54effe4f",
   "metadata": {},
   "source": [
    "## Irrelevant Features\n",
    "\n",
    "- `PassengerId`, `Ticket` are not needed as they are just identifiers and do not hold value for analysis and modeling.\n",
    "- `Name` is not needed as this is personally-identifiable information.\n",
    "- `Cabin` does not contain any values useable for analysis and modeling."
   ]
  },
  {
   "cell_type": "code",
   "execution_count": 6,
   "id": "2d98cf5e",
   "metadata": {},
   "outputs": [
    {
     "name": "stdout",
     "output_type": "stream",
     "text": [
      "<class 'pandas.core.frame.DataFrame'>\n",
      "RangeIndex: 891 entries, 0 to 890\n",
      "Data columns (total 8 columns):\n",
      " #   Column    Non-Null Count  Dtype  \n",
      "---  ------    --------------  -----  \n",
      " 0   Survived  891 non-null    int64  \n",
      " 1   Pclass    891 non-null    int64  \n",
      " 2   Sex       891 non-null    object \n",
      " 3   Age       714 non-null    float64\n",
      " 4   SibSp     891 non-null    int64  \n",
      " 5   Parch     891 non-null    int64  \n",
      " 6   Fare      891 non-null    float64\n",
      " 7   Embarked  889 non-null    object \n",
      "dtypes: float64(2), int64(4), object(2)\n",
      "memory usage: 55.8+ KB\n"
     ]
    }
   ],
   "source": [
    "# Remove irrelevant features\n",
    "cols_to_drop = [\"PassengerId\", \"Name\", \"Ticket\", \"Cabin\"]\n",
    "\n",
    "train_data_cleaned.drop(columns=cols_to_drop, inplace=True)\n",
    "train_data_cleaned.info()"
   ]
  },
  {
   "cell_type": "markdown",
   "id": "b7f3f0fe",
   "metadata": {},
   "source": [
    "## Data Type Issues\n",
    "\n",
    "- `Pclass` should be converted from `int64` to `category` since its values are categorical\n",
    "- `Sex` and `Embarked` would be better if converted to `category`"
   ]
  },
  {
   "cell_type": "code",
   "execution_count": 7,
   "id": "93349d55",
   "metadata": {},
   "outputs": [
    {
     "data": {
      "application/vnd.microsoft.datawrangler.viewer.v0+json": {
       "columns": [
        {
         "name": "index",
         "rawType": "object",
         "type": "string"
        },
        {
         "name": "0",
         "rawType": "object",
         "type": "unknown"
        }
       ],
       "ref": "0146b199-1fa4-4ded-8757-e83daf478487",
       "rows": [
        [
         "Survived",
         "int64"
        ],
        [
         "Pclass",
         "int64"
        ],
        [
         "Sex",
         "object"
        ],
        [
         "Age",
         "float64"
        ],
        [
         "SibSp",
         "int64"
        ],
        [
         "Parch",
         "int64"
        ],
        [
         "Fare",
         "float64"
        ],
        [
         "Embarked",
         "object"
        ]
       ],
       "shape": {
        "columns": 1,
        "rows": 8
       }
      },
      "text/plain": [
       "Survived      int64\n",
       "Pclass        int64\n",
       "Sex          object\n",
       "Age         float64\n",
       "SibSp         int64\n",
       "Parch         int64\n",
       "Fare        float64\n",
       "Embarked     object\n",
       "dtype: object"
      ]
     },
     "execution_count": 7,
     "metadata": {},
     "output_type": "execute_result"
    }
   ],
   "source": [
    "train_data_cleaned.dtypes"
   ]
  },
  {
   "cell_type": "code",
   "execution_count": 8,
   "id": "979b7d99",
   "metadata": {},
   "outputs": [
    {
     "name": "stdout",
     "output_type": "stream",
     "text": [
      "<class 'pandas.core.frame.DataFrame'>\n",
      "RangeIndex: 891 entries, 0 to 890\n",
      "Data columns (total 8 columns):\n",
      " #   Column    Non-Null Count  Dtype   \n",
      "---  ------    --------------  -----   \n",
      " 0   Survived  891 non-null    int64   \n",
      " 1   Pclass    891 non-null    category\n",
      " 2   Sex       891 non-null    category\n",
      " 3   Age       714 non-null    float64 \n",
      " 4   SibSp     891 non-null    int64   \n",
      " 5   Parch     891 non-null    int64   \n",
      " 6   Fare      891 non-null    float64 \n",
      " 7   Embarked  889 non-null    category\n",
      "dtypes: category(3), float64(2), int64(3)\n",
      "memory usage: 37.9 KB\n"
     ]
    }
   ],
   "source": [
    "# Convert columns to appropriate data types\n",
    "train_data_cleaned[[\"Pclass\", \"Sex\", \"Embarked\"]] = train_data_cleaned[[\"Pclass\", \"Sex\", \"Embarked\"]].astype(\"category\")\n",
    "\n",
    "train_data_cleaned.info()"
   ]
  },
  {
   "cell_type": "markdown",
   "id": "ae0fedd9",
   "metadata": {},
   "source": [
    "## Data Range Constraints\n",
    "\n",
    "- `Fare` has 15 observations where the value is `0.0`, which indicates either their fare was not documented or they rode the Titanic for free. Inspecting these columns, we can see a pattern where all of these passengers were **males** who embarked from **Southampton (S)**, with no family members on board (`SibSp` and `Parch` are 0). This suggests that these individuals would likely be stowaways, thus we will retain all of these observations.\n",
    "- All the other features look to have valid data ranges (no negatives and unusually high values)."
   ]
  },
  {
   "cell_type": "code",
   "execution_count": 9,
   "id": "cd04fc29",
   "metadata": {},
   "outputs": [
    {
     "data": {
      "application/vnd.microsoft.datawrangler.viewer.v0+json": {
       "columns": [
        {
         "name": "index",
         "rawType": "object",
         "type": "string"
        },
        {
         "name": "Survived",
         "rawType": "int64",
         "type": "integer"
        },
        {
         "name": "Age",
         "rawType": "float64",
         "type": "float"
        },
        {
         "name": "SibSp",
         "rawType": "int64",
         "type": "integer"
        },
        {
         "name": "Parch",
         "rawType": "int64",
         "type": "integer"
        },
        {
         "name": "Fare",
         "rawType": "float64",
         "type": "float"
        }
       ],
       "ref": "c2fe463d-c054-4f9e-a495-629f8e068d9d",
       "rows": [
        [
         "min",
         "0",
         "0.42",
         "0",
         "0",
         "0.0"
        ],
        [
         "max",
         "1",
         "80.0",
         "8",
         "6",
         "512.3292"
        ]
       ],
       "shape": {
        "columns": 5,
        "rows": 2
       }
      },
      "text/html": [
       "<div>\n",
       "<style scoped>\n",
       "    .dataframe tbody tr th:only-of-type {\n",
       "        vertical-align: middle;\n",
       "    }\n",
       "\n",
       "    .dataframe tbody tr th {\n",
       "        vertical-align: top;\n",
       "    }\n",
       "\n",
       "    .dataframe thead th {\n",
       "        text-align: right;\n",
       "    }\n",
       "</style>\n",
       "<table border=\"1\" class=\"dataframe\">\n",
       "  <thead>\n",
       "    <tr style=\"text-align: right;\">\n",
       "      <th></th>\n",
       "      <th>Survived</th>\n",
       "      <th>Age</th>\n",
       "      <th>SibSp</th>\n",
       "      <th>Parch</th>\n",
       "      <th>Fare</th>\n",
       "    </tr>\n",
       "  </thead>\n",
       "  <tbody>\n",
       "    <tr>\n",
       "      <th>min</th>\n",
       "      <td>0</td>\n",
       "      <td>0.42</td>\n",
       "      <td>0</td>\n",
       "      <td>0</td>\n",
       "      <td>0.0000</td>\n",
       "    </tr>\n",
       "    <tr>\n",
       "      <th>max</th>\n",
       "      <td>1</td>\n",
       "      <td>80.00</td>\n",
       "      <td>8</td>\n",
       "      <td>6</td>\n",
       "      <td>512.3292</td>\n",
       "    </tr>\n",
       "  </tbody>\n",
       "</table>\n",
       "</div>"
      ],
      "text/plain": [
       "     Survived    Age  SibSp  Parch      Fare\n",
       "min         0   0.42      0      0    0.0000\n",
       "max         1  80.00      8      6  512.3292"
      ]
     },
     "execution_count": 9,
     "metadata": {},
     "output_type": "execute_result"
    }
   ],
   "source": [
    "train_data_cleaned.select_dtypes(include=[\"int\", \"float\"]).agg([\"min\", \"max\"])"
   ]
  },
  {
   "cell_type": "code",
   "execution_count": 10,
   "id": "eda8aa59",
   "metadata": {},
   "outputs": [
    {
     "data": {
      "application/vnd.microsoft.datawrangler.viewer.v0+json": {
       "columns": [
        {
         "name": "index",
         "rawType": "int64",
         "type": "integer"
        },
        {
         "name": "Survived",
         "rawType": "int64",
         "type": "integer"
        },
        {
         "name": "Pclass",
         "rawType": "category",
         "type": "unknown"
        },
        {
         "name": "Sex",
         "rawType": "category",
         "type": "unknown"
        },
        {
         "name": "Age",
         "rawType": "float64",
         "type": "float"
        },
        {
         "name": "SibSp",
         "rawType": "int64",
         "type": "integer"
        },
        {
         "name": "Parch",
         "rawType": "int64",
         "type": "integer"
        },
        {
         "name": "Fare",
         "rawType": "float64",
         "type": "float"
        },
        {
         "name": "Embarked",
         "rawType": "category",
         "type": "unknown"
        }
       ],
       "ref": "c9259b51-bc10-477d-8cc9-ad2e33ddb94e",
       "rows": [
        [
         "179",
         "0",
         "3",
         "male",
         "36.0",
         "0",
         "0",
         "0.0",
         "S"
        ],
        [
         "263",
         "0",
         "1",
         "male",
         "40.0",
         "0",
         "0",
         "0.0",
         "S"
        ],
        [
         "271",
         "1",
         "3",
         "male",
         "25.0",
         "0",
         "0",
         "0.0",
         "S"
        ],
        [
         "277",
         "0",
         "2",
         "male",
         null,
         "0",
         "0",
         "0.0",
         "S"
        ],
        [
         "302",
         "0",
         "3",
         "male",
         "19.0",
         "0",
         "0",
         "0.0",
         "S"
        ],
        [
         "413",
         "0",
         "2",
         "male",
         null,
         "0",
         "0",
         "0.0",
         "S"
        ],
        [
         "466",
         "0",
         "2",
         "male",
         null,
         "0",
         "0",
         "0.0",
         "S"
        ],
        [
         "481",
         "0",
         "2",
         "male",
         null,
         "0",
         "0",
         "0.0",
         "S"
        ],
        [
         "597",
         "0",
         "3",
         "male",
         "49.0",
         "0",
         "0",
         "0.0",
         "S"
        ],
        [
         "633",
         "0",
         "1",
         "male",
         null,
         "0",
         "0",
         "0.0",
         "S"
        ],
        [
         "674",
         "0",
         "2",
         "male",
         null,
         "0",
         "0",
         "0.0",
         "S"
        ],
        [
         "732",
         "0",
         "2",
         "male",
         null,
         "0",
         "0",
         "0.0",
         "S"
        ],
        [
         "806",
         "0",
         "1",
         "male",
         "39.0",
         "0",
         "0",
         "0.0",
         "S"
        ],
        [
         "815",
         "0",
         "1",
         "male",
         null,
         "0",
         "0",
         "0.0",
         "S"
        ],
        [
         "822",
         "0",
         "1",
         "male",
         "38.0",
         "0",
         "0",
         "0.0",
         "S"
        ]
       ],
       "shape": {
        "columns": 8,
        "rows": 15
       }
      },
      "text/html": [
       "<div>\n",
       "<style scoped>\n",
       "    .dataframe tbody tr th:only-of-type {\n",
       "        vertical-align: middle;\n",
       "    }\n",
       "\n",
       "    .dataframe tbody tr th {\n",
       "        vertical-align: top;\n",
       "    }\n",
       "\n",
       "    .dataframe thead th {\n",
       "        text-align: right;\n",
       "    }\n",
       "</style>\n",
       "<table border=\"1\" class=\"dataframe\">\n",
       "  <thead>\n",
       "    <tr style=\"text-align: right;\">\n",
       "      <th></th>\n",
       "      <th>Survived</th>\n",
       "      <th>Pclass</th>\n",
       "      <th>Sex</th>\n",
       "      <th>Age</th>\n",
       "      <th>SibSp</th>\n",
       "      <th>Parch</th>\n",
       "      <th>Fare</th>\n",
       "      <th>Embarked</th>\n",
       "    </tr>\n",
       "  </thead>\n",
       "  <tbody>\n",
       "    <tr>\n",
       "      <th>179</th>\n",
       "      <td>0</td>\n",
       "      <td>3</td>\n",
       "      <td>male</td>\n",
       "      <td>36.0</td>\n",
       "      <td>0</td>\n",
       "      <td>0</td>\n",
       "      <td>0.0</td>\n",
       "      <td>S</td>\n",
       "    </tr>\n",
       "    <tr>\n",
       "      <th>263</th>\n",
       "      <td>0</td>\n",
       "      <td>1</td>\n",
       "      <td>male</td>\n",
       "      <td>40.0</td>\n",
       "      <td>0</td>\n",
       "      <td>0</td>\n",
       "      <td>0.0</td>\n",
       "      <td>S</td>\n",
       "    </tr>\n",
       "    <tr>\n",
       "      <th>271</th>\n",
       "      <td>1</td>\n",
       "      <td>3</td>\n",
       "      <td>male</td>\n",
       "      <td>25.0</td>\n",
       "      <td>0</td>\n",
       "      <td>0</td>\n",
       "      <td>0.0</td>\n",
       "      <td>S</td>\n",
       "    </tr>\n",
       "    <tr>\n",
       "      <th>277</th>\n",
       "      <td>0</td>\n",
       "      <td>2</td>\n",
       "      <td>male</td>\n",
       "      <td>NaN</td>\n",
       "      <td>0</td>\n",
       "      <td>0</td>\n",
       "      <td>0.0</td>\n",
       "      <td>S</td>\n",
       "    </tr>\n",
       "    <tr>\n",
       "      <th>302</th>\n",
       "      <td>0</td>\n",
       "      <td>3</td>\n",
       "      <td>male</td>\n",
       "      <td>19.0</td>\n",
       "      <td>0</td>\n",
       "      <td>0</td>\n",
       "      <td>0.0</td>\n",
       "      <td>S</td>\n",
       "    </tr>\n",
       "    <tr>\n",
       "      <th>413</th>\n",
       "      <td>0</td>\n",
       "      <td>2</td>\n",
       "      <td>male</td>\n",
       "      <td>NaN</td>\n",
       "      <td>0</td>\n",
       "      <td>0</td>\n",
       "      <td>0.0</td>\n",
       "      <td>S</td>\n",
       "    </tr>\n",
       "    <tr>\n",
       "      <th>466</th>\n",
       "      <td>0</td>\n",
       "      <td>2</td>\n",
       "      <td>male</td>\n",
       "      <td>NaN</td>\n",
       "      <td>0</td>\n",
       "      <td>0</td>\n",
       "      <td>0.0</td>\n",
       "      <td>S</td>\n",
       "    </tr>\n",
       "    <tr>\n",
       "      <th>481</th>\n",
       "      <td>0</td>\n",
       "      <td>2</td>\n",
       "      <td>male</td>\n",
       "      <td>NaN</td>\n",
       "      <td>0</td>\n",
       "      <td>0</td>\n",
       "      <td>0.0</td>\n",
       "      <td>S</td>\n",
       "    </tr>\n",
       "    <tr>\n",
       "      <th>597</th>\n",
       "      <td>0</td>\n",
       "      <td>3</td>\n",
       "      <td>male</td>\n",
       "      <td>49.0</td>\n",
       "      <td>0</td>\n",
       "      <td>0</td>\n",
       "      <td>0.0</td>\n",
       "      <td>S</td>\n",
       "    </tr>\n",
       "    <tr>\n",
       "      <th>633</th>\n",
       "      <td>0</td>\n",
       "      <td>1</td>\n",
       "      <td>male</td>\n",
       "      <td>NaN</td>\n",
       "      <td>0</td>\n",
       "      <td>0</td>\n",
       "      <td>0.0</td>\n",
       "      <td>S</td>\n",
       "    </tr>\n",
       "    <tr>\n",
       "      <th>674</th>\n",
       "      <td>0</td>\n",
       "      <td>2</td>\n",
       "      <td>male</td>\n",
       "      <td>NaN</td>\n",
       "      <td>0</td>\n",
       "      <td>0</td>\n",
       "      <td>0.0</td>\n",
       "      <td>S</td>\n",
       "    </tr>\n",
       "    <tr>\n",
       "      <th>732</th>\n",
       "      <td>0</td>\n",
       "      <td>2</td>\n",
       "      <td>male</td>\n",
       "      <td>NaN</td>\n",
       "      <td>0</td>\n",
       "      <td>0</td>\n",
       "      <td>0.0</td>\n",
       "      <td>S</td>\n",
       "    </tr>\n",
       "    <tr>\n",
       "      <th>806</th>\n",
       "      <td>0</td>\n",
       "      <td>1</td>\n",
       "      <td>male</td>\n",
       "      <td>39.0</td>\n",
       "      <td>0</td>\n",
       "      <td>0</td>\n",
       "      <td>0.0</td>\n",
       "      <td>S</td>\n",
       "    </tr>\n",
       "    <tr>\n",
       "      <th>815</th>\n",
       "      <td>0</td>\n",
       "      <td>1</td>\n",
       "      <td>male</td>\n",
       "      <td>NaN</td>\n",
       "      <td>0</td>\n",
       "      <td>0</td>\n",
       "      <td>0.0</td>\n",
       "      <td>S</td>\n",
       "    </tr>\n",
       "    <tr>\n",
       "      <th>822</th>\n",
       "      <td>0</td>\n",
       "      <td>1</td>\n",
       "      <td>male</td>\n",
       "      <td>38.0</td>\n",
       "      <td>0</td>\n",
       "      <td>0</td>\n",
       "      <td>0.0</td>\n",
       "      <td>S</td>\n",
       "    </tr>\n",
       "  </tbody>\n",
       "</table>\n",
       "</div>"
      ],
      "text/plain": [
       "     Survived Pclass   Sex   Age  SibSp  Parch  Fare Embarked\n",
       "179         0      3  male  36.0      0      0   0.0        S\n",
       "263         0      1  male  40.0      0      0   0.0        S\n",
       "271         1      3  male  25.0      0      0   0.0        S\n",
       "277         0      2  male   NaN      0      0   0.0        S\n",
       "302         0      3  male  19.0      0      0   0.0        S\n",
       "413         0      2  male   NaN      0      0   0.0        S\n",
       "466         0      2  male   NaN      0      0   0.0        S\n",
       "481         0      2  male   NaN      0      0   0.0        S\n",
       "597         0      3  male  49.0      0      0   0.0        S\n",
       "633         0      1  male   NaN      0      0   0.0        S\n",
       "674         0      2  male   NaN      0      0   0.0        S\n",
       "732         0      2  male   NaN      0      0   0.0        S\n",
       "806         0      1  male  39.0      0      0   0.0        S\n",
       "815         0      1  male   NaN      0      0   0.0        S\n",
       "822         0      1  male  38.0      0      0   0.0        S"
      ]
     },
     "execution_count": 10,
     "metadata": {},
     "output_type": "execute_result"
    }
   ],
   "source": [
    "train_data_cleaned.loc[train_data_cleaned[\"Fare\"] == 0]"
   ]
  },
  {
   "cell_type": "markdown",
   "id": "eda4e035",
   "metadata": {},
   "source": [
    "## Membership Constraints\n",
    "\n",
    "- `Embarked` has invalid category (`NaN`), which represents missing values and should be resolved."
   ]
  },
  {
   "cell_type": "code",
   "execution_count": 11,
   "id": "85e8ce7f",
   "metadata": {},
   "outputs": [
    {
     "name": "stdout",
     "output_type": "stream",
     "text": [
      "Unique values in 'Pclass':\n",
      "[3, 1, 2]\n",
      "Categories (3, int64): [1, 2, 3]\n",
      "\n",
      "Unique values in 'Sex':\n",
      "['male', 'female']\n",
      "Categories (2, object): ['female', 'male']\n",
      "\n",
      "Unique values in 'Embarked':\n",
      "['S', 'C', 'Q', NaN]\n",
      "Categories (3, object): ['C', 'Q', 'S']\n",
      "\n"
     ]
    }
   ],
   "source": [
    "categorical_cols = train_data_cleaned.select_dtypes(include=[\"category\"]).columns\n",
    "\n",
    "for col in categorical_cols:\n",
    "    print(f\"Unique values in '{col}':\")\n",
    "    print(train_data_cleaned[col].unique())\n",
    "    print()\n"
   ]
  },
  {
   "cell_type": "markdown",
   "id": "d72fe236",
   "metadata": {},
   "source": [
    "## Missing Values"
   ]
  },
  {
   "cell_type": "code",
   "execution_count": 12,
   "id": "2041a2ab",
   "metadata": {},
   "outputs": [
    {
     "data": {
      "application/vnd.microsoft.datawrangler.viewer.v0+json": {
       "columns": [
        {
         "name": "index",
         "rawType": "object",
         "type": "string"
        },
        {
         "name": "0",
         "rawType": "int64",
         "type": "integer"
        }
       ],
       "ref": "0687af90-aaa8-4774-8c60-2bc8c85fbe29",
       "rows": [
        [
         "Survived",
         "0"
        ],
        [
         "Pclass",
         "0"
        ],
        [
         "Sex",
         "0"
        ],
        [
         "Age",
         "177"
        ],
        [
         "SibSp",
         "0"
        ],
        [
         "Parch",
         "0"
        ],
        [
         "Fare",
         "0"
        ],
        [
         "Embarked",
         "2"
        ]
       ],
       "shape": {
        "columns": 1,
        "rows": 8
       }
      },
      "text/plain": [
       "Survived      0\n",
       "Pclass        0\n",
       "Sex           0\n",
       "Age         177\n",
       "SibSp         0\n",
       "Parch         0\n",
       "Fare          0\n",
       "Embarked      2\n",
       "dtype: int64"
      ]
     },
     "execution_count": 12,
     "metadata": {},
     "output_type": "execute_result"
    }
   ],
   "source": [
    "train_data_cleaned.isna().sum()"
   ]
  },
  {
   "cell_type": "markdown",
   "id": "6e64f38b",
   "metadata": {},
   "source": [
    "The following features contain missing data:\n",
    "\n",
    "- `Age`: 177 missing\n",
    "- `Embarked`: 2 missing\n",
    "\n",
    "Since there are only 2 observations with missing values from the `Embarked` column, it is safe to drop these."
   ]
  },
  {
   "cell_type": "code",
   "execution_count": 13,
   "id": "d1be3bed",
   "metadata": {},
   "outputs": [
    {
     "data": {
      "application/vnd.microsoft.datawrangler.viewer.v0+json": {
       "columns": [
        {
         "name": "index",
         "rawType": "object",
         "type": "string"
        },
        {
         "name": "0",
         "rawType": "int64",
         "type": "integer"
        }
       ],
       "ref": "50102a42-ac01-44c2-aaca-b69fe17a4b5a",
       "rows": [
        [
         "Survived",
         "0"
        ],
        [
         "Pclass",
         "0"
        ],
        [
         "Sex",
         "0"
        ],
        [
         "Age",
         "177"
        ],
        [
         "SibSp",
         "0"
        ],
        [
         "Parch",
         "0"
        ],
        [
         "Fare",
         "0"
        ],
        [
         "Embarked",
         "0"
        ]
       ],
       "shape": {
        "columns": 1,
        "rows": 8
       }
      },
      "text/plain": [
       "Survived      0\n",
       "Pclass        0\n",
       "Sex           0\n",
       "Age         177\n",
       "SibSp         0\n",
       "Parch         0\n",
       "Fare          0\n",
       "Embarked      0\n",
       "dtype: int64"
      ]
     },
     "execution_count": 13,
     "metadata": {},
     "output_type": "execute_result"
    }
   ],
   "source": [
    "# Drop rows with missing values in `Embarked` column\n",
    "train_data_cleaned.dropna(subset=[\"Embarked\"], inplace=True)\n",
    "\n",
    "# Check for missing values again\n",
    "train_data_cleaned.isna().sum()"
   ]
  },
  {
   "cell_type": "markdown",
   "id": "5fee66e5",
   "metadata": {},
   "source": [
    "For handling missing values in the `Age` column, it would be better to **impute** for them since there are **177** rows affected, and simply dropping them would lead to significant data loss. For this, we must first investigate the distribution of the data to guide in determining the optimal imputation method (**mean** or **median**)."
   ]
  },
  {
   "cell_type": "code",
   "execution_count": 14,
   "id": "65b84ad0",
   "metadata": {},
   "outputs": [
    {
     "data": {
      "image/png": "[encoded data removed]",
      "text/plain": [
       "<Figure size 640x480 with 1 Axes>"
      ]
     },
     "metadata": {},
     "output_type": "display_data"
    }
   ],
   "source": [
    "sns.kdeplot(data=train_data_cleaned, x=\"Age\")\n",
    "plt.show()"
   ]
  },
  {
   "cell_type": "markdown",
   "id": "7b3b71ce",
   "metadata": {},
   "source": [
    "Since the `Age` column is slightly right-skewed, it would be better to use the **median** for imputation since it is less sensitive to skewed data and better represents the central tendency."
   ]
  },
  {
   "cell_type": "code",
   "execution_count": 15,
   "id": "f44708df",
   "metadata": {},
   "outputs": [
    {
     "data": {
      "application/vnd.microsoft.datawrangler.viewer.v0+json": {
       "columns": [
        {
         "name": "index",
         "rawType": "object",
         "type": "string"
        },
        {
         "name": "0",
         "rawType": "int64",
         "type": "integer"
        }
       ],
       "ref": "9c63cd59-1fb3-4fda-be63-faacfdf97d41",
       "rows": [
        [
         "Survived",
         "0"
        ],
        [
         "Pclass",
         "0"
        ],
        [
         "Sex",
         "0"
        ],
        [
         "Age",
         "0"
        ],
        [
         "SibSp",
         "0"
        ],
        [
         "Parch",
         "0"
        ],
        [
         "Fare",
         "0"
        ],
        [
         "Embarked",
         "0"
        ]
       ],
       "shape": {
        "columns": 1,
        "rows": 8
       }
      },
      "text/plain": [
       "Survived    0\n",
       "Pclass      0\n",
       "Sex         0\n",
       "Age         0\n",
       "SibSp       0\n",
       "Parch       0\n",
       "Fare        0\n",
       "Embarked    0\n",
       "dtype: int64"
      ]
     },
     "execution_count": 15,
     "metadata": {},
     "output_type": "execute_result"
    }
   ],
   "source": [
    "# Compute the median age and use it to fill missing values\n",
    "median_age = train_data_cleaned[\"Age\"].median()\n",
    "\n",
    "train_data_cleaned[\"Age\"] = train_data_cleaned[\"Age\"].fillna(median_age)\n",
    "\n",
    "# Check for missing values again\n",
    "train_data_cleaned.isna().sum()"
   ]
  },
  {
   "cell_type": "markdown",
   "id": "a66bac4d",
   "metadata": {},
   "source": [
    "## Outliers\n",
    "\n",
    "We will use the Interquartile Range (IQR) method to detect outliers. This method flags data points as outliers if either:\n",
    "\n",
    "- They lie **below** `Q1 - 1.5 × IQR`\n",
    "- They lie **above** `Q3 + 1.5 × IQR`\n",
    "\n",
    "where `Q1` and `Q3` are the first and third quartiles, respectively."
   ]
  },
  {
   "cell_type": "code",
   "execution_count": 16,
   "id": "e7fc3838",
   "metadata": {},
   "outputs": [
    {
     "name": "stdout",
     "output_type": "stream",
     "text": [
      "Outliers in Survived: 0 found\n",
      "Outliers in Age: 65 found\n",
      "Outliers in SibSp: 46 found\n",
      "Outliers in Parch: 213 found\n",
      "Outliers in Fare: 114 found\n"
     ]
    }
   ],
   "source": [
    "def detect_outliers(data, col):\n",
    "    # Compute the first and third quartiles (25th and 75th percentiles)\n",
    "    q1 = data[col].quantile(0.25)\n",
    "    q3 = data[col].quantile(0.75)\n",
    "\n",
    "    # Compute the interquartile range (IQR)\n",
    "    iqr = q3 - q1\n",
    "\n",
    "    # Compute the lower and upper thresholds for outliers\n",
    "    lower_bound = q1 - 1.5 * iqr\n",
    "    upper_bound = q3 + 1.5 * iqr\n",
    "\n",
    "    # Identify outliers\n",
    "    return data[(data[col] < lower_bound) | (data[col] > upper_bound)]\n",
    "\n",
    "\n",
    "# Detect outliers from numeric columns\n",
    "num_cols = train_data_cleaned.select_dtypes(include=[\"int\", \"float\"]).columns\n",
    "\n",
    "# Count how many outliers in each column\n",
    "for col in num_cols:\n",
    "    num_outliers = len(detect_outliers(train_data_cleaned, col))\n",
    "    print(f\"Outliers in {col}: {num_outliers} found\")"
   ]
  },
  {
   "cell_type": "markdown",
   "id": "8996720c",
   "metadata": {},
   "source": [
    "Outliers were found in the following columns:\n",
    "- `Age`\n",
    "- `SibSp`\n",
    "- `Parch`\n",
    "- `Fare`\n",
    "\n",
    "Now, we will be sampling some observations from these features to determine if the outliers represent legitimate data points or may have been caused by data or technical errors."
   ]
  },
  {
   "cell_type": "code",
   "execution_count": 17,
   "id": "169a650b",
   "metadata": {},
   "outputs": [
    {
     "data": {
      "image/png": "[encoded data removed]",
      "text/plain": [
       "<Figure size 640x480 with 1 Axes>"
      ]
     },
     "metadata": {},
     "output_type": "display_data"
    },
    {
     "data": {
      "image/png": "[encoded data removed]",
      "text/plain": [
       "<Figure size 640x480 with 1 Axes>"
      ]
     },
     "metadata": {},
     "output_type": "display_data"
    },
    {
     "data": {
      "image/png": "[encoded data removed]",
      "text/plain": [
       "<Figure size 640x480 with 1 Axes>"
      ]
     },
     "metadata": {},
     "output_type": "display_data"
    },
    {
     "data": {
      "image/png": "[encoded data removed]",
      "text/plain": [
       "<Figure size 640x480 with 1 Axes>"
      ]
     },
     "metadata": {},
     "output_type": "display_data"
    }
   ],
   "source": [
    "cols_with_outliers = [\"Age\", \"SibSp\", \"Parch\", \"Fare\"]\n",
    "\n",
    "# Visualize how outliers are distributed using box plots\n",
    "for col in cols_with_outliers:\n",
    "    sns.boxplot(data=train_data_cleaned, x=col)\n",
    "    plt.title(f\"Box plot of {col}\")\n",
    "    plt.show()"
   ]
  },
  {
   "cell_type": "code",
   "execution_count": 18,
   "id": "47e73266",
   "metadata": {},
   "outputs": [
    {
     "data": {
      "application/vnd.microsoft.datawrangler.viewer.v0+json": {
       "columns": [
        {
         "name": "index",
         "rawType": "int64",
         "type": "integer"
        },
        {
         "name": "PassengerId",
         "rawType": "int64",
         "type": "integer"
        },
        {
         "name": "Survived",
         "rawType": "int64",
         "type": "integer"
        },
        {
         "name": "Pclass",
         "rawType": "int64",
         "type": "integer"
        },
        {
         "name": "Name",
         "rawType": "object",
         "type": "string"
        },
        {
         "name": "Sex",
         "rawType": "object",
         "type": "string"
        },
        {
         "name": "Age",
         "rawType": "float64",
         "type": "float"
        },
        {
         "name": "SibSp",
         "rawType": "int64",
         "type": "integer"
        },
        {
         "name": "Parch",
         "rawType": "int64",
         "type": "integer"
        },
        {
         "name": "Ticket",
         "rawType": "object",
         "type": "string"
        },
        {
         "name": "Fare",
         "rawType": "float64",
         "type": "float"
        },
        {
         "name": "Cabin",
         "rawType": "object",
         "type": "unknown"
        },
        {
         "name": "Embarked",
         "rawType": "object",
         "type": "string"
        }
       ],
       "ref": "75bd15e5-a2b6-4e51-b6ea-37de46d539c6",
       "rows": [
        [
         "258",
         "259",
         "1",
         "1",
         "Ward, Miss. Anna",
         "female",
         "35.0",
         "0",
         "0",
         "PC 17755",
         "512.3292",
         null,
         "C"
        ],
        [
         "679",
         "680",
         "1",
         "1",
         "Cardeza, Mr. Thomas Drake Martinez",
         "male",
         "36.0",
         "0",
         "1",
         "PC 17755",
         "512.3292",
         "B51 B53 B55",
         "C"
        ],
        [
         "737",
         "738",
         "1",
         "1",
         "Lesurer, Mr. Gustave J",
         "male",
         "35.0",
         "0",
         "0",
         "PC 17755",
         "512.3292",
         "B101",
         "C"
        ]
       ],
       "shape": {
        "columns": 12,
        "rows": 3
       }
      },
      "text/html": [
       "<div>\n",
       "<style scoped>\n",
       "    .dataframe tbody tr th:only-of-type {\n",
       "        vertical-align: middle;\n",
       "    }\n",
       "\n",
       "    .dataframe tbody tr th {\n",
       "        vertical-align: top;\n",
       "    }\n",
       "\n",
       "    .dataframe thead th {\n",
       "        text-align: right;\n",
       "    }\n",
       "</style>\n",
       "<table border=\"1\" class=\"dataframe\">\n",
       "  <thead>\n",
       "    <tr style=\"text-align: right;\">\n",
       "      <th></th>\n",
       "      <th>PassengerId</th>\n",
       "      <th>Survived</th>\n",
       "      <th>Pclass</th>\n",
       "      <th>Name</th>\n",
       "      <th>Sex</th>\n",
       "      <th>Age</th>\n",
       "      <th>SibSp</th>\n",
       "      <th>Parch</th>\n",
       "      <th>Ticket</th>\n",
       "      <th>Fare</th>\n",
       "      <th>Cabin</th>\n",
       "      <th>Embarked</th>\n",
       "    </tr>\n",
       "  </thead>\n",
       "  <tbody>\n",
       "    <tr>\n",
       "      <th>258</th>\n",
       "      <td>259</td>\n",
       "      <td>1</td>\n",
       "      <td>1</td>\n",
       "      <td>Ward, Miss. Anna</td>\n",
       "      <td>female</td>\n",
       "      <td>35.0</td>\n",
       "      <td>0</td>\n",
       "      <td>0</td>\n",
       "      <td>PC 17755</td>\n",
       "      <td>512.3292</td>\n",
       "      <td>NaN</td>\n",
       "      <td>C</td>\n",
       "    </tr>\n",
       "    <tr>\n",
       "      <th>679</th>\n",
       "      <td>680</td>\n",
       "      <td>1</td>\n",
       "      <td>1</td>\n",
       "      <td>Cardeza, Mr. Thomas Drake Martinez</td>\n",
       "      <td>male</td>\n",
       "      <td>36.0</td>\n",
       "      <td>0</td>\n",
       "      <td>1</td>\n",
       "      <td>PC 17755</td>\n",
       "      <td>512.3292</td>\n",
       "      <td>B51 B53 B55</td>\n",
       "      <td>C</td>\n",
       "    </tr>\n",
       "    <tr>\n",
       "      <th>737</th>\n",
       "      <td>738</td>\n",
       "      <td>1</td>\n",
       "      <td>1</td>\n",
       "      <td>Lesurer, Mr. Gustave J</td>\n",
       "      <td>male</td>\n",
       "      <td>35.0</td>\n",
       "      <td>0</td>\n",
       "      <td>0</td>\n",
       "      <td>PC 17755</td>\n",
       "      <td>512.3292</td>\n",
       "      <td>B101</td>\n",
       "      <td>C</td>\n",
       "    </tr>\n",
       "  </tbody>\n",
       "</table>\n",
       "</div>"
      ],
      "text/plain": [
       "     PassengerId  Survived  Pclass                                Name  \\\n",
       "258          259         1       1                    Ward, Miss. Anna   \n",
       "679          680         1       1  Cardeza, Mr. Thomas Drake Martinez   \n",
       "737          738         1       1              Lesurer, Mr. Gustave J   \n",
       "\n",
       "        Sex   Age  SibSp  Parch    Ticket      Fare        Cabin Embarked  \n",
       "258  female  35.0      0      0  PC 17755  512.3292          NaN        C  \n",
       "679    male  36.0      0      1  PC 17755  512.3292  B51 B53 B55        C  \n",
       "737    male  35.0      0      0  PC 17755  512.3292         B101        C  "
      ]
     },
     "execution_count": 18,
     "metadata": {},
     "output_type": "execute_result"
    }
   ],
   "source": [
    "train_data[train_data[\"Fare\"] > 400]"
   ]
  },
  {
   "cell_type": "markdown",
   "id": "815a6079",
   "metadata": {},
   "source": [
    "**Findings:**\n",
    "\n",
    "- `Age`: Outliers are present both exceeding the lower and upper thresholds. However, the outliers are still within the expected age range. Outliers in this column could just be a result of the data being concentrated in the 25-30 age range.\n",
    "- `SibSp` and `Parch`: Outliers for these columns are only present exceeding the upper threshold. Outliers in this column could be a result of some passengers having more than the average number of family members aboard with them rather than data entry errors.\n",
    "- `Fare`: Outliers are present exceed only exceeding the upper threshold. Notably, there are far-right outliers that have ticket fares exceeding 500. Upon closer inspection on these rows, considering they were all first class passengers (`Pclass == 1`), it seems they are valid data points and could be passengers booked on the most expensive cabins.\n",
    "\n",
    "**Verdict:**\n",
    "\n",
    "- Upon investigation, although outliers were detected, all of them were still within the realistic range of their respective feature and could have been the result of the majority of the data being tightly concentrated on the median. Therefore, **we will be keeping all outliers** since they probably represent valid data points."
   ]
  },
  {
   "cell_type": "markdown",
   "id": "2df49cfb",
   "metadata": {},
   "source": [
    "# Exploratory Data Analysis"
   ]
  },
  {
   "cell_type": "markdown",
   "id": "c0a01b58",
   "metadata": {},
   "source": [
    "## Review Dataset Structure"
   ]
  },
  {
   "cell_type": "code",
   "execution_count": 19,
   "id": "06997ecd",
   "metadata": {},
   "outputs": [
    {
     "data": {
      "application/vnd.microsoft.datawrangler.viewer.v0+json": {
       "columns": [
        {
         "name": "index",
         "rawType": "int64",
         "type": "integer"
        },
        {
         "name": "Survived",
         "rawType": "int64",
         "type": "integer"
        },
        {
         "name": "Pclass",
         "rawType": "category",
         "type": "unknown"
        },
        {
         "name": "Sex",
         "rawType": "category",
         "type": "unknown"
        },
        {
         "name": "Age",
         "rawType": "float64",
         "type": "float"
        },
        {
         "name": "SibSp",
         "rawType": "int64",
         "type": "integer"
        },
        {
         "name": "Parch",
         "rawType": "int64",
         "type": "integer"
        },
        {
         "name": "Fare",
         "rawType": "float64",
         "type": "float"
        },
        {
         "name": "Embarked",
         "rawType": "category",
         "type": "unknown"
        }
       ],
       "ref": "2e9f1d38-363a-4874-9830-5a721bdad1cd",
       "rows": [
        [
         "0",
         "0",
         "3",
         "male",
         "22.0",
         "1",
         "0",
         "7.25",
         "S"
        ],
        [
         "1",
         "1",
         "1",
         "female",
         "38.0",
         "1",
         "0",
         "71.2833",
         "C"
        ],
        [
         "2",
         "1",
         "3",
         "female",
         "26.0",
         "0",
         "0",
         "7.925",
         "S"
        ],
        [
         "3",
         "1",
         "1",
         "female",
         "35.0",
         "1",
         "0",
         "53.1",
         "S"
        ],
        [
         "4",
         "0",
         "3",
         "male",
         "35.0",
         "0",
         "0",
         "8.05",
         "S"
        ]
       ],
       "shape": {
        "columns": 8,
        "rows": 5
       }
      },
      "text/html": [
       "<div>\n",
       "<style scoped>\n",
       "    .dataframe tbody tr th:only-of-type {\n",
       "        vertical-align: middle;\n",
       "    }\n",
       "\n",
       "    .dataframe tbody tr th {\n",
       "        vertical-align: top;\n",
       "    }\n",
       "\n",
       "    .dataframe thead th {\n",
       "        text-align: right;\n",
       "    }\n",
       "</style>\n",
       "<table border=\"1\" class=\"dataframe\">\n",
       "  <thead>\n",
       "    <tr style=\"text-align: right;\">\n",
       "      <th></th>\n",
       "      <th>Survived</th>\n",
       "      <th>Pclass</th>\n",
       "      <th>Sex</th>\n",
       "      <th>Age</th>\n",
       "      <th>SibSp</th>\n",
       "      <th>Parch</th>\n",
       "      <th>Fare</th>\n",
       "      <th>Embarked</th>\n",
       "    </tr>\n",
       "  </thead>\n",
       "  <tbody>\n",
       "    <tr>\n",
       "      <th>0</th>\n",
       "      <td>0</td>\n",
       "      <td>3</td>\n",
       "      <td>male</td>\n",
       "      <td>22.0</td>\n",
       "      <td>1</td>\n",
       "      <td>0</td>\n",
       "      <td>7.2500</td>\n",
       "      <td>S</td>\n",
       "    </tr>\n",
       "    <tr>\n",
       "      <th>1</th>\n",
       "      <td>1</td>\n",
       "      <td>1</td>\n",
       "      <td>female</td>\n",
       "      <td>38.0</td>\n",
       "      <td>1</td>\n",
       "      <td>0</td>\n",
       "      <td>71.2833</td>\n",
       "      <td>C</td>\n",
       "    </tr>\n",
       "    <tr>\n",
       "      <th>2</th>\n",
       "      <td>1</td>\n",
       "      <td>3</td>\n",
       "      <td>female</td>\n",
       "      <td>26.0</td>\n",
       "      <td>0</td>\n",
       "      <td>0</td>\n",
       "      <td>7.9250</td>\n",
       "      <td>S</td>\n",
       "    </tr>\n",
       "    <tr>\n",
       "      <th>3</th>\n",
       "      <td>1</td>\n",
       "      <td>1</td>\n",
       "      <td>female</td>\n",
       "      <td>35.0</td>\n",
       "      <td>1</td>\n",
       "      <td>0</td>\n",
       "      <td>53.1000</td>\n",
       "      <td>S</td>\n",
       "    </tr>\n",
       "    <tr>\n",
       "      <th>4</th>\n",
       "      <td>0</td>\n",
       "      <td>3</td>\n",
       "      <td>male</td>\n",
       "      <td>35.0</td>\n",
       "      <td>0</td>\n",
       "      <td>0</td>\n",
       "      <td>8.0500</td>\n",
       "      <td>S</td>\n",
       "    </tr>\n",
       "  </tbody>\n",
       "</table>\n",
       "</div>"
      ],
      "text/plain": [
       "   Survived Pclass     Sex   Age  SibSp  Parch     Fare Embarked\n",
       "0         0      3    male  22.0      1      0   7.2500        S\n",
       "1         1      1  female  38.0      1      0  71.2833        C\n",
       "2         1      3  female  26.0      0      0   7.9250        S\n",
       "3         1      1  female  35.0      1      0  53.1000        S\n",
       "4         0      3    male  35.0      0      0   8.0500        S"
      ]
     },
     "execution_count": 19,
     "metadata": {},
     "output_type": "execute_result"
    }
   ],
   "source": [
    "train_data_cleaned.head()"
   ]
  },
  {
   "cell_type": "code",
   "execution_count": 20,
   "id": "73329149",
   "metadata": {},
   "outputs": [
    {
     "name": "stdout",
     "output_type": "stream",
     "text": [
      "<class 'pandas.core.frame.DataFrame'>\n",
      "Index: 889 entries, 0 to 890\n",
      "Data columns (total 8 columns):\n",
      " #   Column    Non-Null Count  Dtype   \n",
      "---  ------    --------------  -----   \n",
      " 0   Survived  889 non-null    int64   \n",
      " 1   Pclass    889 non-null    category\n",
      " 2   Sex       889 non-null    category\n",
      " 3   Age       889 non-null    float64 \n",
      " 4   SibSp     889 non-null    int64   \n",
      " 5   Parch     889 non-null    int64   \n",
      " 6   Fare      889 non-null    float64 \n",
      " 7   Embarked  889 non-null    category\n",
      "dtypes: category(3), float64(2), int64(3)\n",
      "memory usage: 44.7 KB\n"
     ]
    }
   ],
   "source": [
    "train_data_cleaned.info()"
   ]
  },
  {
   "cell_type": "markdown",
   "id": "ad7467dc",
   "metadata": {},
   "source": [
    "## Univariate Analysis"
   ]
  },
  {
   "cell_type": "markdown",
   "id": "8323a204",
   "metadata": {},
   "source": [
    "### Numeric Features"
   ]
  },
  {
   "cell_type": "code",
   "execution_count": 21,
   "id": "b3da6ed2",
   "metadata": {},
   "outputs": [
    {
     "data": {
      "application/vnd.microsoft.datawrangler.viewer.v0+json": {
       "columns": [
        {
         "name": "index",
         "rawType": "object",
         "type": "string"
        },
        {
         "name": "Age",
         "rawType": "float64",
         "type": "float"
        },
        {
         "name": "SibSp",
         "rawType": "float64",
         "type": "float"
        },
        {
         "name": "Parch",
         "rawType": "float64",
         "type": "float"
        },
        {
         "name": "Fare",
         "rawType": "float64",
         "type": "float"
        }
       ],
       "ref": "b6ed6101-0d99-497d-a546-1e7d6e0f2f3a",
       "rows": [
        [
         "count",
         "889.0",
         "889.0",
         "889.0",
         "889.0"
        ],
        [
         "mean",
         "29.315151856017994",
         "0.5241844769403825",
         "0.38245219347581555",
         "32.09668087739032"
        ],
        [
         "std",
         "12.984932293690775",
         "1.1037048755969239",
         "0.8067607445174777",
         "49.697504316707956"
        ],
        [
         "min",
         "0.42",
         "0.0",
         "0.0",
         "0.0"
        ],
        [
         "25%",
         "22.0",
         "0.0",
         "0.0",
         "7.8958"
        ],
        [
         "50%",
         "28.0",
         "0.0",
         "0.0",
         "14.4542"
        ],
        [
         "75%",
         "35.0",
         "1.0",
         "0.0",
         "31.0"
        ],
        [
         "max",
         "80.0",
         "8.0",
         "6.0",
         "512.3292"
        ]
       ],
       "shape": {
        "columns": 4,
        "rows": 8
       }
      },
      "text/html": [
       "<div>\n",
       "<style scoped>\n",
       "    .dataframe tbody tr th:only-of-type {\n",
       "        vertical-align: middle;\n",
       "    }\n",
       "\n",
       "    .dataframe tbody tr th {\n",
       "        vertical-align: top;\n",
       "    }\n",
       "\n",
       "    .dataframe thead th {\n",
       "        text-align: right;\n",
       "    }\n",
       "</style>\n",
       "<table border=\"1\" class=\"dataframe\">\n",
       "  <thead>\n",
       "    <tr style=\"text-align: right;\">\n",
       "      <th></th>\n",
       "      <th>Age</th>\n",
       "      <th>SibSp</th>\n",
       "      <th>Parch</th>\n",
       "      <th>Fare</th>\n",
       "    </tr>\n",
       "  </thead>\n",
       "  <tbody>\n",
       "    <tr>\n",
       "      <th>count</th>\n",
       "      <td>889.000000</td>\n",
       "      <td>889.000000</td>\n",
       "      <td>889.000000</td>\n",
       "      <td>889.000000</td>\n",
       "    </tr>\n",
       "    <tr>\n",
       "      <th>mean</th>\n",
       "      <td>29.315152</td>\n",
       "      <td>0.524184</td>\n",
       "      <td>0.382452</td>\n",
       "      <td>32.096681</td>\n",
       "    </tr>\n",
       "    <tr>\n",
       "      <th>std</th>\n",
       "      <td>12.984932</td>\n",
       "      <td>1.103705</td>\n",
       "      <td>0.806761</td>\n",
       "      <td>49.697504</td>\n",
       "    </tr>\n",
       "    <tr>\n",
       "      <th>min</th>\n",
       "      <td>0.420000</td>\n",
       "      <td>0.000000</td>\n",
       "      <td>0.000000</td>\n",
       "      <td>0.000000</td>\n",
       "    </tr>\n",
       "    <tr>\n",
       "      <th>25%</th>\n",
       "      <td>22.000000</td>\n",
       "      <td>0.000000</td>\n",
       "      <td>0.000000</td>\n",
       "      <td>7.895800</td>\n",
       "    </tr>\n",
       "    <tr>\n",
       "      <th>50%</th>\n",
       "      <td>28.000000</td>\n",
       "      <td>0.000000</td>\n",
       "      <td>0.000000</td>\n",
       "      <td>14.454200</td>\n",
       "    </tr>\n",
       "    <tr>\n",
       "      <th>75%</th>\n",
       "      <td>35.000000</td>\n",
       "      <td>1.000000</td>\n",
       "      <td>0.000000</td>\n",
       "      <td>31.000000</td>\n",
       "    </tr>\n",
       "    <tr>\n",
       "      <th>max</th>\n",
       "      <td>80.000000</td>\n",
       "      <td>8.000000</td>\n",
       "      <td>6.000000</td>\n",
       "      <td>512.329200</td>\n",
       "    </tr>\n",
       "  </tbody>\n",
       "</table>\n",
       "</div>"
      ],
      "text/plain": [
       "              Age       SibSp       Parch        Fare\n",
       "count  889.000000  889.000000  889.000000  889.000000\n",
       "mean    29.315152    0.524184    0.382452   32.096681\n",
       "std     12.984932    1.103705    0.806761   49.697504\n",
       "min      0.420000    0.000000    0.000000    0.000000\n",
       "25%     22.000000    0.000000    0.000000    7.895800\n",
       "50%     28.000000    0.000000    0.000000   14.454200\n",
       "75%     35.000000    1.000000    0.000000   31.000000\n",
       "max     80.000000    8.000000    6.000000  512.329200"
      ]
     },
     "execution_count": 21,
     "metadata": {},
     "output_type": "execute_result"
    }
   ],
   "source": [
    "quantitative_cols = [\"Age\", \"SibSp\", \"Parch\", \"Fare\"]\n",
    "\n",
    "# Display summary statistics for numeric features\n",
    "train_data_cleaned[quantitative_cols].describe()"
   ]
  },
  {
   "cell_type": "markdown",
   "id": "52c7ebde",
   "metadata": {},
   "source": [
    "**Findings:**\n",
    "\n",
    "There is a feature scale imbalance present:\n",
    "- `SibSp` and `Parch` values are limited to single-digit ranges\n",
    "- `Age` spans up to double digits\n",
    "- `Fare` has the widest scale range, reaching values as high as 500."
   ]
  },
  {
   "cell_type": "code",
   "execution_count": 29,
   "id": "7309d484",
   "metadata": {},
   "outputs": [
    {
     "data": {
      "image/png": "[encoded data removed]",
      "text/plain": [
       "<Figure size 1200x400 with 2 Axes>"
      ]
     },
     "metadata": {},
     "output_type": "display_data"
    },
    {
     "data": {
      "image/png": "[encoded data removed]",
      "text/plain": [
       "<Figure size 1200x400 with 2 Axes>"
      ]
     },
     "metadata": {},
     "output_type": "display_data"
    },
    {
     "data": {
      "image/png": "[encoded data removed]",
      "text/plain": [
       "<Figure size 1200x400 with 2 Axes>"
      ]
     },
     "metadata": {},
     "output_type": "display_data"
    },
    {
     "data": {
      "image/png": "[encoded data removed]",
      "text/plain": [
       "<Figure size 1200x400 with 2 Axes>"
      ]
     },
     "metadata": {},
     "output_type": "display_data"
    }
   ],
   "source": [
    "# Use histograms, KDE plots, and box plots for visualizing the distribution of numeric features\n",
    "for col in quantitative_cols:\n",
    "    fig, ax = plt.subplots(nrows=1, ncols=2, figsize=(12, 4))\n",
    "\n",
    "    sns.histplot(data=train_data_cleaned, x=col, ax=ax[0], bins=5)\n",
    "    ax[0].set_title(f\"Histogram of {col}\")\n",
    "\n",
    "    sns.boxplot(data=train_data_cleaned, x=col, ax=ax[1])\n",
    "    ax[1].set_title(f\"Box plot of {col}\")\n",
    "\n",
    "    plt.tight_layout()\n",
    "    plt.show()"
   ]
  },
  {
   "cell_type": "markdown",
   "id": "ba8369a6",
   "metadata": {},
   "source": [
    "**Findings:**\n",
    "\n",
    "- `Age`:\n",
    "  - This feature is slightly right-skewed, with most outliers on the right (55-80 year olds) and a few on the left (<10 year olds). This is also supported by the mean (**29.32**) being slightly higher than the median (**28.0**). The values range from **0.42** (less than 1 year old) to **80.0**, with a standard deviation of **12.98**. This shows that passengers aboard had a wide range of ages, but most passengers were between 20-40 years old.\n",
    "- `SibSp` and `Parch`:\n",
    "  - Both these features portray the same pattern of being extremely right-skewed, where the vast majority of passengers travelled alone (0-1 relations). There are outliers present in the right side, indicating that some passengers travelled with up to 8 siblings/spouses and 6 parents/children.\n",
    "- `Fare`:\n",
    "  - This feature is also severely right-skewed, indicating that most tickets had low prices, which is expected considering most passengers were in 3rd class. The mean ticket fare was **32.097**, while the median was **31.0**. The values had a very wide range, starting from **0.0** (probably stowaways) up to **512.0** (which could indicate the most expensive cabin), with the standard deviation being **49.70**. Outliers in the right side also support the fact that there were significantly fewer passengers booked into 1st and 2nd class, hence the higher ticket prices."
   ]
  },
  {
   "cell_type": "markdown",
   "id": "20fecfa3",
   "metadata": {},
   "source": [
    "### Categorical Features"
   ]
  },
  {
   "cell_type": "code",
   "execution_count": 23,
   "id": "e3f52c37",
   "metadata": {},
   "outputs": [
    {
     "name": "stdout",
     "output_type": "stream",
     "text": [
      "Frequency table for Pclass:\n",
      "Pclass\n",
      "3    491\n",
      "1    214\n",
      "2    184\n",
      "Name: count, dtype: int64\n",
      "\n",
      "Frequency table for Sex:\n",
      "Sex\n",
      "male      577\n",
      "female    312\n",
      "Name: count, dtype: int64\n",
      "\n",
      "Frequency table for Embarked:\n",
      "Embarked\n",
      "S    644\n",
      "C    168\n",
      "Q     77\n",
      "Name: count, dtype: int64\n",
      "\n"
     ]
    }
   ],
   "source": [
    "categorical_cols = train_data_cleaned.select_dtypes(include=[\"category\"]).columns\n",
    "\n",
    "# Display frequency tables for categorical features\n",
    "for col in categorical_cols:\n",
    "    print(f\"Frequency table for {col}:\")\n",
    "    print(train_data_cleaned[col].value_counts())\n",
    "    print()"
   ]
  },
  {
   "cell_type": "code",
   "execution_count": 28,
   "id": "a5edfab3",
   "metadata": {},
   "outputs": [
    {
     "data": {
      "image/png": "[encoded data removed]",
      "text/plain": [
       "<Figure size 1500x400 with 3 Axes>"
      ]
     },
     "metadata": {},
     "output_type": "display_data"
    }
   ],
   "source": [
    "# Use count plots to visualize the distribution of categorical features\n",
    "fig, ax = plt.subplots(nrows=1, ncols=len(categorical_cols), figsize=(15, 4))\n",
    "\n",
    "for i, col in enumerate(categorical_cols):\n",
    "    sns.countplot(data=train_data_cleaned, x=col, ax=ax[i])\n",
    "    ax[i].set_title(f\"Count plot of {col}\")\n",
    "    ax[i].set_xlabel(col)\n",
    "\n",
    "plt.tight_layout()\n",
    "plt.show()"
   ]
  },
  {
   "cell_type": "markdown",
   "id": "e185a168",
   "metadata": {},
   "source": [
    "**Findings:**\n",
    "\n",
    "- `Pclass`: This feature is imbalance, with most passengers belonging to 3rd class.\n",
    "- `Sex`: This feature is imbalanced, with male counts (577) almost double that of females (312).\n",
    "- `Embarked`: This feature is also imbalanced, with Southampton having significantly more observations (644) than both Queenstown (168) and Cherbourg (77) combined."
   ]
  },
  {
   "cell_type": "markdown",
   "id": "951a99f0",
   "metadata": {},
   "source": [
    "## Bivariate Analysis"
   ]
  },
  {
   "cell_type": "markdown",
   "id": "0f262f56",
   "metadata": {},
   "source": [
    "### Correlation between Numeric Features and Target Variable"
   ]
  },
  {
   "cell_type": "code",
   "execution_count": 25,
   "id": "403244a6",
   "metadata": {},
   "outputs": [
    {
     "name": "stdout",
     "output_type": "stream",
     "text": [
      "Correlation between Age and Survived: -0.07\n",
      "Correlation between SibSp and Survived: -0.03\n",
      "Correlation between Parch and Survived: 0.08\n",
      "Correlation between Fare and Survived: 0.26\n"
     ]
    }
   ],
   "source": [
    "# Compute correlations of numeric features with the target variable\n",
    "for feature in quantitative_cols:\n",
    "    correlation = train_data_cleaned[feature].corr(train_data_cleaned[\"Survived\"])\n",
    "    print(f\"Correlation between {feature} and Survived: {correlation:.2f}\")"
   ]
  },
  {
   "cell_type": "markdown",
   "id": "73e8e44b",
   "metadata": {},
   "source": [
    "**Findings**\n",
    "\n",
    "- Based on the correlation values, all numeric features exhibited a weak correlation with the target variable `Survived`, which indicates that these features have limited predictive power just on their own and may need further feature engineering."
   ]
  },
  {
   "cell_type": "markdown",
   "id": "8c7d1c50",
   "metadata": {},
   "source": [
    "### Relationship between Categorical Features and Target Variable"
   ]
  },
  {
   "cell_type": "code",
   "execution_count": 26,
   "id": "0d9525f0",
   "metadata": {},
   "outputs": [
    {
     "data": {
      "image/png": "[encoded data removed]",
      "text/plain": [
       "<Figure size 1500x500 with 3 Axes>"
      ]
     },
     "metadata": {},
     "output_type": "display_data"
    }
   ],
   "source": [
    "# Visualize the relationship between categorical features and the target variable\n",
    "fig, axes = plt.subplots(nrows=1, ncols=3, figsize=(15, 5))\n",
    "\n",
    "for ax, col in zip(axes, categorical_cols):\n",
    "    sns.countplot(data=train_data_cleaned, x=col, hue=\"Survived\", ax=ax)\n",
    "    ax.set_title(f\"Count plot of {col} by Survived\")\n",
    "\n",
    "plt.tight_layout()\n",
    "plt.show()"
   ]
  },
  {
   "cell_type": "markdown",
   "id": "f8d20b6f",
   "metadata": {},
   "source": [
    "**Findings:**\n",
    "\n",
    "- `Pclass`: 3rd class had the largest difference between number of survivors and non-survivors, with the majority of passengers as casualties. 2nd class also had more non-survivors but the difference is significantly smaller. On the other hand, 1st class actually had more survivors than non-survivors. This indicates that higher class passengers had higher chances of survival than lower class ones. \n",
    "\n",
    "- `Sex`: There is a pattern where the majority of male passengers were non-survivors but the majority of females were survivors. This indicates that sex also has an impact on survivorship, probably because females and children were the priority to be put in lifeboats.\n",
    "\n",
    "- `Embarked`: Passengers who embarked from Southampton had the largest difference between number of survivors vs non-survivors, with the majority beging non-surivors. The same pattern is exhibited in the Queenstown class but the difference is smaller. Interestingly, the Cherbourg class actually had slightly more survivors. This indicates that there is a slight relationship between this feature and survival of passengers. "
   ]
  },
  {
   "cell_type": "markdown",
   "id": "828f2e3c",
   "metadata": {},
   "source": [
    "## Recommendations\n",
    "\n",
    "- The dataset contains categorical variables (`Pclass`, `Sex`, `Embarked`) and they should be encoded so that they can be fed into the model. Since these features contain low-cardinality, **one-hot encoding** will be used.\n",
    "- All categorical features exhibit class imbalance and should addressed by using either **class weighting, SMOTE, or resampling techniques**. Additionally, it would be better to focus on metrics such as **Precision, Recall, and F1 Score** because they are better suited to evaluate model performance on imbalanced data. \n",
    "- The numeric features (`Age`, `SibSp`, `Parch`, `Fare`) are right-skewed and should be applied with **log transformations** to reduce the skewness of the data.\n",
    "- The numeric features also exhibit scaling imbalance, thus **scaling techniques such as standardization** should be applied especially if linear models will be used."
   ]
  },
  {
   "cell_type": "markdown",
   "id": "aad4dbfa",
   "metadata": {},
   "source": [
    "# Data Preprocessing"
   ]
  },
  {
   "cell_type": "code",
   "execution_count": null,
   "id": "98a065b7",
   "metadata": {},
   "outputs": [],
   "source": []
  }
 ],
 "metadata": {
  "kernelspec": {
   "display_name": "Python 3",
   "language": "python",
   "name": "python3"
  },
  "language_info": {
   "codemirror_mode": {
    "name": "ipython",
    "version": 3
   },
   "file_extension": ".py",
   "mimetype": "text/x-python",
   "name": "python",
   "nbconvert_exporter": "python",
   "pygments_lexer": "ipython3",
   "version": "3.12.4"
  }
 },
 "nbformat": 4,
 "nbformat_minor": 5
}
