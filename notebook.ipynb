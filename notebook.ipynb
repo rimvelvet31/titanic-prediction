{
 "cells": [
  {
   "cell_type": "markdown",
   "id": "d53a8f19",
   "metadata": {},
   "source": [
    "# Load Data and Dependencies"
   ]
  },
  {
   "cell_type": "code",
   "execution_count": 39,
   "id": "dafd3933",
   "metadata": {},
   "outputs": [
    {
     "data": {
      "application/vnd.microsoft.datawrangler.viewer.v0+json": {
       "columns": [
        {
         "name": "index",
         "rawType": "int64",
         "type": "integer"
        },
        {
         "name": "PassengerId",
         "rawType": "int64",
         "type": "integer"
        },
        {
         "name": "Survived",
         "rawType": "int64",
         "type": "integer"
        },
        {
         "name": "Pclass",
         "rawType": "int64",
         "type": "integer"
        },
        {
         "name": "Name",
         "rawType": "object",
         "type": "string"
        },
        {
         "name": "Sex",
         "rawType": "object",
         "type": "string"
        },
        {
         "name": "Age",
         "rawType": "float64",
         "type": "float"
        },
        {
         "name": "SibSp",
         "rawType": "int64",
         "type": "integer"
        },
        {
         "name": "Parch",
         "rawType": "int64",
         "type": "integer"
        },
        {
         "name": "Ticket",
         "rawType": "object",
         "type": "string"
        },
        {
         "name": "Fare",
         "rawType": "float64",
         "type": "float"
        },
        {
         "name": "Cabin",
         "rawType": "object",
         "type": "unknown"
        },
        {
         "name": "Embarked",
         "rawType": "object",
         "type": "string"
        }
       ],
       "conversionMethod": "pd.DataFrame",
       "ref": "7898ae6f-70ef-4698-89c3-132337528b52",
       "rows": [
        [
         "0",
         "1",
         "0",
         "3",
         "Braund, Mr. Owen Harris",
         "male",
         "22.0",
         "1",
         "0",
         "A/5 21171",
         "7.25",
         null,
         "S"
        ],
        [
         "1",
         "2",
         "1",
         "1",
         "Cumings, Mrs. John Bradley (Florence Briggs Thayer)",
         "female",
         "38.0",
         "1",
         "0",
         "PC 17599",
         "71.2833",
         "C85",
         "C"
        ],
        [
         "2",
         "3",
         "1",
         "3",
         "Heikkinen, Miss. Laina",
         "female",
         "26.0",
         "0",
         "0",
         "STON/O2. 3101282",
         "7.925",
         null,
         "S"
        ],
        [
         "3",
         "4",
         "1",
         "1",
         "Futrelle, Mrs. Jacques Heath (Lily May Peel)",
         "female",
         "35.0",
         "1",
         "0",
         "113803",
         "53.1",
         "C123",
         "S"
        ],
        [
         "4",
         "5",
         "0",
         "3",
         "Allen, Mr. William Henry",
         "male",
         "35.0",
         "0",
         "0",
         "373450",
         "8.05",
         null,
         "S"
        ]
       ],
       "shape": {
        "columns": 12,
        "rows": 5
       }
      },
      "text/html": [
       "<div>\n",
       "<style scoped>\n",
       "    .dataframe tbody tr th:only-of-type {\n",
       "        vertical-align: middle;\n",
       "    }\n",
       "\n",
       "    .dataframe tbody tr th {\n",
       "        vertical-align: top;\n",
       "    }\n",
       "\n",
       "    .dataframe thead th {\n",
       "        text-align: right;\n",
       "    }\n",
       "</style>\n",
       "<table border=\"1\" class=\"dataframe\">\n",
       "  <thead>\n",
       "    <tr style=\"text-align: right;\">\n",
       "      <th></th>\n",
       "      <th>PassengerId</th>\n",
       "      <th>Survived</th>\n",
       "      <th>Pclass</th>\n",
       "      <th>Name</th>\n",
       "      <th>Sex</th>\n",
       "      <th>Age</th>\n",
       "      <th>SibSp</th>\n",
       "      <th>Parch</th>\n",
       "      <th>Ticket</th>\n",
       "      <th>Fare</th>\n",
       "      <th>Cabin</th>\n",
       "      <th>Embarked</th>\n",
       "    </tr>\n",
       "  </thead>\n",
       "  <tbody>\n",
       "    <tr>\n",
       "      <th>0</th>\n",
       "      <td>1</td>\n",
       "      <td>0</td>\n",
       "      <td>3</td>\n",
       "      <td>Braund, Mr. Owen Harris</td>\n",
       "      <td>male</td>\n",
       "      <td>22.0</td>\n",
       "      <td>1</td>\n",
       "      <td>0</td>\n",
       "      <td>A/5 21171</td>\n",
       "      <td>7.2500</td>\n",
       "      <td>NaN</td>\n",
       "      <td>S</td>\n",
       "    </tr>\n",
       "    <tr>\n",
       "      <th>1</th>\n",
       "      <td>2</td>\n",
       "      <td>1</td>\n",
       "      <td>1</td>\n",
       "      <td>Cumings, Mrs. John Bradley (Florence Briggs Th...</td>\n",
       "      <td>female</td>\n",
       "      <td>38.0</td>\n",
       "      <td>1</td>\n",
       "      <td>0</td>\n",
       "      <td>PC 17599</td>\n",
       "      <td>71.2833</td>\n",
       "      <td>C85</td>\n",
       "      <td>C</td>\n",
       "    </tr>\n",
       "    <tr>\n",
       "      <th>2</th>\n",
       "      <td>3</td>\n",
       "      <td>1</td>\n",
       "      <td>3</td>\n",
       "      <td>Heikkinen, Miss. Laina</td>\n",
       "      <td>female</td>\n",
       "      <td>26.0</td>\n",
       "      <td>0</td>\n",
       "      <td>0</td>\n",
       "      <td>STON/O2. 3101282</td>\n",
       "      <td>7.9250</td>\n",
       "      <td>NaN</td>\n",
       "      <td>S</td>\n",
       "    </tr>\n",
       "    <tr>\n",
       "      <th>3</th>\n",
       "      <td>4</td>\n",
       "      <td>1</td>\n",
       "      <td>1</td>\n",
       "      <td>Futrelle, Mrs. Jacques Heath (Lily May Peel)</td>\n",
       "      <td>female</td>\n",
       "      <td>35.0</td>\n",
       "      <td>1</td>\n",
       "      <td>0</td>\n",
       "      <td>113803</td>\n",
       "      <td>53.1000</td>\n",
       "      <td>C123</td>\n",
       "      <td>S</td>\n",
       "    </tr>\n",
       "    <tr>\n",
       "      <th>4</th>\n",
       "      <td>5</td>\n",
       "      <td>0</td>\n",
       "      <td>3</td>\n",
       "      <td>Allen, Mr. William Henry</td>\n",
       "      <td>male</td>\n",
       "      <td>35.0</td>\n",
       "      <td>0</td>\n",
       "      <td>0</td>\n",
       "      <td>373450</td>\n",
       "      <td>8.0500</td>\n",
       "      <td>NaN</td>\n",
       "      <td>S</td>\n",
       "    </tr>\n",
       "  </tbody>\n",
       "</table>\n",
       "</div>"
      ],
      "text/plain": [
       "   PassengerId  Survived  Pclass  \\\n",
       "0            1         0       3   \n",
       "1            2         1       1   \n",
       "2            3         1       3   \n",
       "3            4         1       1   \n",
       "4            5         0       3   \n",
       "\n",
       "                                                Name     Sex   Age  SibSp  \\\n",
       "0                            Braund, Mr. Owen Harris    male  22.0      1   \n",
       "1  Cumings, Mrs. John Bradley (Florence Briggs Th...  female  38.0      1   \n",
       "2                             Heikkinen, Miss. Laina  female  26.0      0   \n",
       "3       Futrelle, Mrs. Jacques Heath (Lily May Peel)  female  35.0      1   \n",
       "4                           Allen, Mr. William Henry    male  35.0      0   \n",
       "\n",
       "   Parch            Ticket     Fare Cabin Embarked  \n",
       "0      0         A/5 21171   7.2500   NaN        S  \n",
       "1      0          PC 17599  71.2833   C85        C  \n",
       "2      0  STON/O2. 3101282   7.9250   NaN        S  \n",
       "3      0            113803  53.1000  C123        S  \n",
       "4      0            373450   8.0500   NaN        S  "
      ]
     },
     "execution_count": 39,
     "metadata": {},
     "output_type": "execute_result"
    }
   ],
   "source": [
    "import pandas as pd\n",
    "import seaborn as sns\n",
    "import matplotlib.pyplot as plt\n",
    "\n",
    "RANDOM_STATE = 1\n",
    "\n",
    "train_data = pd.read_csv(\"data/train.csv\")\n",
    "train_data.head()"
   ]
  },
  {
   "cell_type": "code",
   "execution_count": 12,
   "id": "ee087bae",
   "metadata": {},
   "outputs": [
    {
     "name": "stdout",
     "output_type": "stream",
     "text": [
      "Number of rows: 891\n",
      "Number of columns: 12\n"
     ]
    }
   ],
   "source": [
    "rows, cols = train_data.shape\n",
    "\n",
    "print(f\"Number of rows: {rows}\")\n",
    "print(f\"Number of columns: {cols}\")"
   ]
  },
  {
   "cell_type": "code",
   "execution_count": 13,
   "id": "124e840f",
   "metadata": {},
   "outputs": [
    {
     "name": "stdout",
     "output_type": "stream",
     "text": [
      "<class 'pandas.core.frame.DataFrame'>\n",
      "RangeIndex: 891 entries, 0 to 890\n",
      "Data columns (total 12 columns):\n",
      " #   Column       Non-Null Count  Dtype  \n",
      "---  ------       --------------  -----  \n",
      " 0   PassengerId  891 non-null    int64  \n",
      " 1   Survived     891 non-null    int64  \n",
      " 2   Pclass       891 non-null    int64  \n",
      " 3   Name         891 non-null    object \n",
      " 4   Sex          891 non-null    object \n",
      " 5   Age          714 non-null    float64\n",
      " 6   SibSp        891 non-null    int64  \n",
      " 7   Parch        891 non-null    int64  \n",
      " 8   Ticket       891 non-null    object \n",
      " 9   Fare         891 non-null    float64\n",
      " 10  Cabin        204 non-null    object \n",
      " 11  Embarked     889 non-null    object \n",
      "dtypes: float64(2), int64(5), object(5)\n",
      "memory usage: 83.7+ KB\n"
     ]
    }
   ],
   "source": [
    "train_data.info()"
   ]
  },
  {
   "cell_type": "markdown",
   "id": "169e6658",
   "metadata": {},
   "source": [
    "# Data Cleaning"
   ]
  },
  {
   "cell_type": "code",
   "execution_count": 14,
   "id": "bfb2d7c9",
   "metadata": {},
   "outputs": [],
   "source": [
    "# Store cleaned data in new dataframe\n",
    "train_data_cleaned = train_data.copy()"
   ]
  },
  {
   "cell_type": "markdown",
   "id": "e4a96174",
   "metadata": {},
   "source": [
    "## Duplicates"
   ]
  },
  {
   "cell_type": "code",
   "execution_count": 15,
   "id": "0e8b5412",
   "metadata": {},
   "outputs": [
    {
     "name": "stdout",
     "output_type": "stream",
     "text": [
      "Duplicates records: 0\n"
     ]
    }
   ],
   "source": [
    "# Check for duplicates\n",
    "print(\"Duplicates records:\", train_data.duplicated().sum())"
   ]
  },
  {
   "cell_type": "markdown",
   "id": "de2967cc",
   "metadata": {},
   "source": [
    "There are no duplicated rows, so we can move on to the next step."
   ]
  },
  {
   "cell_type": "markdown",
   "id": "54effe4f",
   "metadata": {},
   "source": [
    "## Irrelevant Features\n",
    "\n",
    "- `PassengerId`, `Ticket` are not needed as they are just indentifiers and do not hold value for analysis and modeling.\n",
    "- `Name` is not needed as this is personally-identifiable information.\n",
    "- `Cabin` will not be needed for analysis and modeling as well."
   ]
  },
  {
   "cell_type": "code",
   "execution_count": 16,
   "id": "2d98cf5e",
   "metadata": {},
   "outputs": [
    {
     "name": "stdout",
     "output_type": "stream",
     "text": [
      "<class 'pandas.core.frame.DataFrame'>\n",
      "RangeIndex: 891 entries, 0 to 890\n",
      "Data columns (total 8 columns):\n",
      " #   Column    Non-Null Count  Dtype  \n",
      "---  ------    --------------  -----  \n",
      " 0   Survived  891 non-null    int64  \n",
      " 1   Pclass    891 non-null    int64  \n",
      " 2   Sex       891 non-null    object \n",
      " 3   Age       714 non-null    float64\n",
      " 4   SibSp     891 non-null    int64  \n",
      " 5   Parch     891 non-null    int64  \n",
      " 6   Fare      891 non-null    float64\n",
      " 7   Embarked  889 non-null    object \n",
      "dtypes: float64(2), int64(4), object(2)\n",
      "memory usage: 55.8+ KB\n"
     ]
    }
   ],
   "source": [
    "# Remove irrelevant features\n",
    "cols_to_drop = [\"PassengerId\", \"Name\", \"Ticket\", \"Cabin\"]\n",
    "\n",
    "train_data_cleaned.drop(columns=cols_to_drop, inplace=True)\n",
    "train_data_cleaned.info()"
   ]
  },
  {
   "cell_type": "markdown",
   "id": "b7f3f0fe",
   "metadata": {},
   "source": [
    "## Data Type Issues\n",
    "\n",
    "- `Sex` and `Embarked` would be better if converted to `category` dtype"
   ]
  },
  {
   "cell_type": "code",
   "execution_count": 17,
   "id": "979b7d99",
   "metadata": {},
   "outputs": [
    {
     "name": "stdout",
     "output_type": "stream",
     "text": [
      "<class 'pandas.core.frame.DataFrame'>\n",
      "RangeIndex: 891 entries, 0 to 890\n",
      "Data columns (total 8 columns):\n",
      " #   Column    Non-Null Count  Dtype   \n",
      "---  ------    --------------  -----   \n",
      " 0   Survived  891 non-null    int64   \n",
      " 1   Pclass    891 non-null    int64   \n",
      " 2   Sex       891 non-null    category\n",
      " 3   Age       714 non-null    float64 \n",
      " 4   SibSp     891 non-null    int64   \n",
      " 5   Parch     891 non-null    int64   \n",
      " 6   Fare      891 non-null    float64 \n",
      " 7   Embarked  889 non-null    category\n",
      "dtypes: category(2), float64(2), int64(4)\n",
      "memory usage: 43.9 KB\n"
     ]
    }
   ],
   "source": [
    "# Convert specified columns to category\n",
    "train_data_cleaned[[\"Sex\", \"Embarked\"]] = train_data_cleaned[[\"Sex\", \"Embarked\"]].astype(\"category\")\n",
    "\n",
    "train_data_cleaned.info()"
   ]
  },
  {
   "cell_type": "markdown",
   "id": "ae0fedd9",
   "metadata": {},
   "source": [
    "## Data Range Constraints\n",
    "\n",
    "- `Fare` has 15 observations where the value is `0.0`, which indicates either their fare was not documented or they rode the Titanic for free. Inspecting these columns, we can see a pattern where all of these passengers were **males** who embarked from **Southampton (S)**, with no family members on board (`SibSp` and `Parch` are 0). This suggests that these individuals would likely be stowaways, thus we will retain all of these observations.\n",
    "- All the other features look to have valid data ranges (no negatives and unusually high values)."
   ]
  },
  {
   "cell_type": "code",
   "execution_count": 18,
   "id": "cd04fc29",
   "metadata": {},
   "outputs": [
    {
     "data": {
      "application/vnd.microsoft.datawrangler.viewer.v0+json": {
       "columns": [
        {
         "name": "index",
         "rawType": "object",
         "type": "string"
        },
        {
         "name": "Survived",
         "rawType": "int64",
         "type": "integer"
        },
        {
         "name": "Pclass",
         "rawType": "int64",
         "type": "integer"
        },
        {
         "name": "Age",
         "rawType": "float64",
         "type": "float"
        },
        {
         "name": "SibSp",
         "rawType": "int64",
         "type": "integer"
        },
        {
         "name": "Parch",
         "rawType": "int64",
         "type": "integer"
        },
        {
         "name": "Fare",
         "rawType": "float64",
         "type": "float"
        }
       ],
       "conversionMethod": "pd.DataFrame",
       "ref": "ebfc42f8-dc3f-41cb-8ced-324e1e5cfb56",
       "rows": [
        [
         "min",
         "0",
         "1",
         "0.42",
         "0",
         "0",
         "0.0"
        ],
        [
         "max",
         "1",
         "3",
         "80.0",
         "8",
         "6",
         "512.3292"
        ]
       ],
       "shape": {
        "columns": 6,
        "rows": 2
       }
      },
      "text/html": [
       "<div>\n",
       "<style scoped>\n",
       "    .dataframe tbody tr th:only-of-type {\n",
       "        vertical-align: middle;\n",
       "    }\n",
       "\n",
       "    .dataframe tbody tr th {\n",
       "        vertical-align: top;\n",
       "    }\n",
       "\n",
       "    .dataframe thead th {\n",
       "        text-align: right;\n",
       "    }\n",
       "</style>\n",
       "<table border=\"1\" class=\"dataframe\">\n",
       "  <thead>\n",
       "    <tr style=\"text-align: right;\">\n",
       "      <th></th>\n",
       "      <th>Survived</th>\n",
       "      <th>Pclass</th>\n",
       "      <th>Age</th>\n",
       "      <th>SibSp</th>\n",
       "      <th>Parch</th>\n",
       "      <th>Fare</th>\n",
       "    </tr>\n",
       "  </thead>\n",
       "  <tbody>\n",
       "    <tr>\n",
       "      <th>min</th>\n",
       "      <td>0</td>\n",
       "      <td>1</td>\n",
       "      <td>0.42</td>\n",
       "      <td>0</td>\n",
       "      <td>0</td>\n",
       "      <td>0.0000</td>\n",
       "    </tr>\n",
       "    <tr>\n",
       "      <th>max</th>\n",
       "      <td>1</td>\n",
       "      <td>3</td>\n",
       "      <td>80.00</td>\n",
       "      <td>8</td>\n",
       "      <td>6</td>\n",
       "      <td>512.3292</td>\n",
       "    </tr>\n",
       "  </tbody>\n",
       "</table>\n",
       "</div>"
      ],
      "text/plain": [
       "     Survived  Pclass    Age  SibSp  Parch      Fare\n",
       "min         0       1   0.42      0      0    0.0000\n",
       "max         1       3  80.00      8      6  512.3292"
      ]
     },
     "execution_count": 18,
     "metadata": {},
     "output_type": "execute_result"
    }
   ],
   "source": [
    "train_data_cleaned.select_dtypes(include=[\"int\", \"float\"]).agg([\"min\", \"max\"])"
   ]
  },
  {
   "cell_type": "code",
   "execution_count": 20,
   "id": "eda8aa59",
   "metadata": {},
   "outputs": [
    {
     "data": {
      "application/vnd.microsoft.datawrangler.viewer.v0+json": {
       "columns": [
        {
         "name": "index",
         "rawType": "int64",
         "type": "integer"
        },
        {
         "name": "Survived",
         "rawType": "int64",
         "type": "integer"
        },
        {
         "name": "Pclass",
         "rawType": "int64",
         "type": "integer"
        },
        {
         "name": "Sex",
         "rawType": "category",
         "type": "unknown"
        },
        {
         "name": "Age",
         "rawType": "float64",
         "type": "float"
        },
        {
         "name": "SibSp",
         "rawType": "int64",
         "type": "integer"
        },
        {
         "name": "Parch",
         "rawType": "int64",
         "type": "integer"
        },
        {
         "name": "Fare",
         "rawType": "float64",
         "type": "float"
        },
        {
         "name": "Embarked",
         "rawType": "category",
         "type": "unknown"
        }
       ],
       "conversionMethod": "pd.DataFrame",
       "ref": "1aa98ff7-70e2-4eb5-978f-39258206bcdf",
       "rows": [
        [
         "179",
         "0",
         "3",
         "male",
         "36.0",
         "0",
         "0",
         "0.0",
         "S"
        ],
        [
         "263",
         "0",
         "1",
         "male",
         "40.0",
         "0",
         "0",
         "0.0",
         "S"
        ],
        [
         "271",
         "1",
         "3",
         "male",
         "25.0",
         "0",
         "0",
         "0.0",
         "S"
        ],
        [
         "277",
         "0",
         "2",
         "male",
         null,
         "0",
         "0",
         "0.0",
         "S"
        ],
        [
         "302",
         "0",
         "3",
         "male",
         "19.0",
         "0",
         "0",
         "0.0",
         "S"
        ],
        [
         "413",
         "0",
         "2",
         "male",
         null,
         "0",
         "0",
         "0.0",
         "S"
        ],
        [
         "466",
         "0",
         "2",
         "male",
         null,
         "0",
         "0",
         "0.0",
         "S"
        ],
        [
         "481",
         "0",
         "2",
         "male",
         null,
         "0",
         "0",
         "0.0",
         "S"
        ],
        [
         "597",
         "0",
         "3",
         "male",
         "49.0",
         "0",
         "0",
         "0.0",
         "S"
        ],
        [
         "633",
         "0",
         "1",
         "male",
         null,
         "0",
         "0",
         "0.0",
         "S"
        ],
        [
         "674",
         "0",
         "2",
         "male",
         null,
         "0",
         "0",
         "0.0",
         "S"
        ],
        [
         "732",
         "0",
         "2",
         "male",
         null,
         "0",
         "0",
         "0.0",
         "S"
        ],
        [
         "806",
         "0",
         "1",
         "male",
         "39.0",
         "0",
         "0",
         "0.0",
         "S"
        ],
        [
         "815",
         "0",
         "1",
         "male",
         null,
         "0",
         "0",
         "0.0",
         "S"
        ],
        [
         "822",
         "0",
         "1",
         "male",
         "38.0",
         "0",
         "0",
         "0.0",
         "S"
        ]
       ],
       "shape": {
        "columns": 8,
        "rows": 15
       }
      },
      "text/html": [
       "<div>\n",
       "<style scoped>\n",
       "    .dataframe tbody tr th:only-of-type {\n",
       "        vertical-align: middle;\n",
       "    }\n",
       "\n",
       "    .dataframe tbody tr th {\n",
       "        vertical-align: top;\n",
       "    }\n",
       "\n",
       "    .dataframe thead th {\n",
       "        text-align: right;\n",
       "    }\n",
       "</style>\n",
       "<table border=\"1\" class=\"dataframe\">\n",
       "  <thead>\n",
       "    <tr style=\"text-align: right;\">\n",
       "      <th></th>\n",
       "      <th>Survived</th>\n",
       "      <th>Pclass</th>\n",
       "      <th>Sex</th>\n",
       "      <th>Age</th>\n",
       "      <th>SibSp</th>\n",
       "      <th>Parch</th>\n",
       "      <th>Fare</th>\n",
       "      <th>Embarked</th>\n",
       "    </tr>\n",
       "  </thead>\n",
       "  <tbody>\n",
       "    <tr>\n",
       "      <th>179</th>\n",
       "      <td>0</td>\n",
       "      <td>3</td>\n",
       "      <td>male</td>\n",
       "      <td>36.0</td>\n",
       "      <td>0</td>\n",
       "      <td>0</td>\n",
       "      <td>0.0</td>\n",
       "      <td>S</td>\n",
       "    </tr>\n",
       "    <tr>\n",
       "      <th>263</th>\n",
       "      <td>0</td>\n",
       "      <td>1</td>\n",
       "      <td>male</td>\n",
       "      <td>40.0</td>\n",
       "      <td>0</td>\n",
       "      <td>0</td>\n",
       "      <td>0.0</td>\n",
       "      <td>S</td>\n",
       "    </tr>\n",
       "    <tr>\n",
       "      <th>271</th>\n",
       "      <td>1</td>\n",
       "      <td>3</td>\n",
       "      <td>male</td>\n",
       "      <td>25.0</td>\n",
       "      <td>0</td>\n",
       "      <td>0</td>\n",
       "      <td>0.0</td>\n",
       "      <td>S</td>\n",
       "    </tr>\n",
       "    <tr>\n",
       "      <th>277</th>\n",
       "      <td>0</td>\n",
       "      <td>2</td>\n",
       "      <td>male</td>\n",
       "      <td>NaN</td>\n",
       "      <td>0</td>\n",
       "      <td>0</td>\n",
       "      <td>0.0</td>\n",
       "      <td>S</td>\n",
       "    </tr>\n",
       "    <tr>\n",
       "      <th>302</th>\n",
       "      <td>0</td>\n",
       "      <td>3</td>\n",
       "      <td>male</td>\n",
       "      <td>19.0</td>\n",
       "      <td>0</td>\n",
       "      <td>0</td>\n",
       "      <td>0.0</td>\n",
       "      <td>S</td>\n",
       "    </tr>\n",
       "    <tr>\n",
       "      <th>413</th>\n",
       "      <td>0</td>\n",
       "      <td>2</td>\n",
       "      <td>male</td>\n",
       "      <td>NaN</td>\n",
       "      <td>0</td>\n",
       "      <td>0</td>\n",
       "      <td>0.0</td>\n",
       "      <td>S</td>\n",
       "    </tr>\n",
       "    <tr>\n",
       "      <th>466</th>\n",
       "      <td>0</td>\n",
       "      <td>2</td>\n",
       "      <td>male</td>\n",
       "      <td>NaN</td>\n",
       "      <td>0</td>\n",
       "      <td>0</td>\n",
       "      <td>0.0</td>\n",
       "      <td>S</td>\n",
       "    </tr>\n",
       "    <tr>\n",
       "      <th>481</th>\n",
       "      <td>0</td>\n",
       "      <td>2</td>\n",
       "      <td>male</td>\n",
       "      <td>NaN</td>\n",
       "      <td>0</td>\n",
       "      <td>0</td>\n",
       "      <td>0.0</td>\n",
       "      <td>S</td>\n",
       "    </tr>\n",
       "    <tr>\n",
       "      <th>597</th>\n",
       "      <td>0</td>\n",
       "      <td>3</td>\n",
       "      <td>male</td>\n",
       "      <td>49.0</td>\n",
       "      <td>0</td>\n",
       "      <td>0</td>\n",
       "      <td>0.0</td>\n",
       "      <td>S</td>\n",
       "    </tr>\n",
       "    <tr>\n",
       "      <th>633</th>\n",
       "      <td>0</td>\n",
       "      <td>1</td>\n",
       "      <td>male</td>\n",
       "      <td>NaN</td>\n",
       "      <td>0</td>\n",
       "      <td>0</td>\n",
       "      <td>0.0</td>\n",
       "      <td>S</td>\n",
       "    </tr>\n",
       "    <tr>\n",
       "      <th>674</th>\n",
       "      <td>0</td>\n",
       "      <td>2</td>\n",
       "      <td>male</td>\n",
       "      <td>NaN</td>\n",
       "      <td>0</td>\n",
       "      <td>0</td>\n",
       "      <td>0.0</td>\n",
       "      <td>S</td>\n",
       "    </tr>\n",
       "    <tr>\n",
       "      <th>732</th>\n",
       "      <td>0</td>\n",
       "      <td>2</td>\n",
       "      <td>male</td>\n",
       "      <td>NaN</td>\n",
       "      <td>0</td>\n",
       "      <td>0</td>\n",
       "      <td>0.0</td>\n",
       "      <td>S</td>\n",
       "    </tr>\n",
       "    <tr>\n",
       "      <th>806</th>\n",
       "      <td>0</td>\n",
       "      <td>1</td>\n",
       "      <td>male</td>\n",
       "      <td>39.0</td>\n",
       "      <td>0</td>\n",
       "      <td>0</td>\n",
       "      <td>0.0</td>\n",
       "      <td>S</td>\n",
       "    </tr>\n",
       "    <tr>\n",
       "      <th>815</th>\n",
       "      <td>0</td>\n",
       "      <td>1</td>\n",
       "      <td>male</td>\n",
       "      <td>NaN</td>\n",
       "      <td>0</td>\n",
       "      <td>0</td>\n",
       "      <td>0.0</td>\n",
       "      <td>S</td>\n",
       "    </tr>\n",
       "    <tr>\n",
       "      <th>822</th>\n",
       "      <td>0</td>\n",
       "      <td>1</td>\n",
       "      <td>male</td>\n",
       "      <td>38.0</td>\n",
       "      <td>0</td>\n",
       "      <td>0</td>\n",
       "      <td>0.0</td>\n",
       "      <td>S</td>\n",
       "    </tr>\n",
       "  </tbody>\n",
       "</table>\n",
       "</div>"
      ],
      "text/plain": [
       "     Survived  Pclass   Sex   Age  SibSp  Parch  Fare Embarked\n",
       "179         0       3  male  36.0      0      0   0.0        S\n",
       "263         0       1  male  40.0      0      0   0.0        S\n",
       "271         1       3  male  25.0      0      0   0.0        S\n",
       "277         0       2  male   NaN      0      0   0.0        S\n",
       "302         0       3  male  19.0      0      0   0.0        S\n",
       "413         0       2  male   NaN      0      0   0.0        S\n",
       "466         0       2  male   NaN      0      0   0.0        S\n",
       "481         0       2  male   NaN      0      0   0.0        S\n",
       "597         0       3  male  49.0      0      0   0.0        S\n",
       "633         0       1  male   NaN      0      0   0.0        S\n",
       "674         0       2  male   NaN      0      0   0.0        S\n",
       "732         0       2  male   NaN      0      0   0.0        S\n",
       "806         0       1  male  39.0      0      0   0.0        S\n",
       "815         0       1  male   NaN      0      0   0.0        S\n",
       "822         0       1  male  38.0      0      0   0.0        S"
      ]
     },
     "execution_count": 20,
     "metadata": {},
     "output_type": "execute_result"
    }
   ],
   "source": [
    "train_data_cleaned.loc[train_data_cleaned[\"Fare\"] == 0]"
   ]
  },
  {
   "cell_type": "markdown",
   "id": "eda4e035",
   "metadata": {},
   "source": [
    "## Membership Constraints\n",
    "\n",
    "- There are no membership issues in both categorical columns, as they contain the expected values."
   ]
  },
  {
   "cell_type": "code",
   "execution_count": 26,
   "id": "85e8ce7f",
   "metadata": {},
   "outputs": [
    {
     "name": "stdout",
     "output_type": "stream",
     "text": [
      "Sex\n",
      "male      577\n",
      "female    314\n",
      "Name: count, dtype: int64\n",
      "\n",
      "Embarked\n",
      "S    644\n",
      "C    168\n",
      "Q     77\n",
      "Name: count, dtype: int64\n",
      "\n"
     ]
    }
   ],
   "source": [
    "categorical_cols = train_data_cleaned.select_dtypes(include=[\"category\"]).columns\n",
    "\n",
    "for col in categorical_cols:\n",
    "    print(train_data_cleaned[col].value_counts())\n",
    "    print()"
   ]
  },
  {
   "cell_type": "markdown",
   "id": "d72fe236",
   "metadata": {},
   "source": [
    "## Missing Values"
   ]
  },
  {
   "cell_type": "code",
   "execution_count": 27,
   "id": "2041a2ab",
   "metadata": {},
   "outputs": [
    {
     "data": {
      "text/plain": [
       "Survived      0\n",
       "Pclass        0\n",
       "Sex           0\n",
       "Age         177\n",
       "SibSp         0\n",
       "Parch         0\n",
       "Fare          0\n",
       "Embarked      2\n",
       "dtype: int64"
      ]
     },
     "execution_count": 27,
     "metadata": {},
     "output_type": "execute_result"
    }
   ],
   "source": [
    "train_data_cleaned.isna().sum()"
   ]
  },
  {
   "cell_type": "markdown",
   "id": "6e64f38b",
   "metadata": {},
   "source": [
    "The following features contain missing data:\n",
    "\n",
    "- `Age`: 177 missing\n",
    "- `Embarked`: 2 missing\n",
    "\n",
    "Since there are only 2 observations with missing values from the `Embarked` column, it is safe to drop these."
   ]
  },
  {
   "cell_type": "code",
   "execution_count": 30,
   "id": "d1be3bed",
   "metadata": {},
   "outputs": [
    {
     "data": {
      "text/plain": [
       "Survived      0\n",
       "Pclass        0\n",
       "Sex           0\n",
       "Age         177\n",
       "SibSp         0\n",
       "Parch         0\n",
       "Fare          0\n",
       "Embarked      0\n",
       "dtype: int64"
      ]
     },
     "execution_count": 30,
     "metadata": {},
     "output_type": "execute_result"
    }
   ],
   "source": [
    "# Drop rows with missing values in `Embarked` column\n",
    "train_data_cleaned.dropna(subset=[\"Embarked\"], inplace=True)\n",
    "\n",
    "# Check for missing values again\n",
    "train_data_cleaned.isna().sum()"
   ]
  },
  {
   "cell_type": "markdown",
   "id": "5fee66e5",
   "metadata": {},
   "source": [
    "For handling missing values in the `Age` column, it would be better to **impute** for them since there are **177** rows affected, and simply dropping them would lead to significant data loss. For this, we must first investigate the distribution of the data to guide in determining the optimal imputation method (**mean** or **median**)."
   ]
  },
  {
   "cell_type": "code",
   "execution_count": 32,
   "id": "65b84ad0",
   "metadata": {},
   "outputs": [
    {
     "data": {
      "image/png": "[encoded data removed]",
      "text/plain": [
       "<Figure size 640x480 with 1 Axes>"
      ]
     },
     "metadata": {},
     "output_type": "display_data"
    }
   ],
   "source": [
    "sns.kdeplot(data=train_data_cleaned, x=\"Age\")\n",
    "plt.show()"
   ]
  },
  {
   "cell_type": "markdown",
   "id": "7b3b71ce",
   "metadata": {},
   "source": [
    "Since the `Age` column is slightly right-skewed, it would be better to use the **median** for imputation since it is less sensitive to skewed data and better represents the central tendency."
   ]
  },
  {
   "cell_type": "code",
   "execution_count": 36,
   "id": "f44708df",
   "metadata": {},
   "outputs": [
    {
     "data": {
      "text/plain": [
       "Survived    0\n",
       "Pclass      0\n",
       "Sex         0\n",
       "Age         0\n",
       "SibSp       0\n",
       "Parch       0\n",
       "Fare        0\n",
       "Embarked    0\n",
       "dtype: int64"
      ]
     },
     "execution_count": 36,
     "metadata": {},
     "output_type": "execute_result"
    }
   ],
   "source": [
    "# Compute the median age and use it to fill missing values\n",
    "median_age = train_data_cleaned[\"Age\"].median()\n",
    "\n",
    "train_data_cleaned[\"Age\"] = train_data_cleaned[\"Age\"].fillna(median_age)\n",
    "\n",
    "# Check for missing values again\n",
    "train_data_cleaned.isna().sum()"
   ]
  },
  {
   "cell_type": "markdown",
   "id": "a66bac4d",
   "metadata": {},
   "source": [
    "## Outliers\n",
    "\n",
    "We will use the Interquartile Range (IQR) method to detect outliers. This method flags data points as outliers if either:\n",
    "\n",
    "- They lie **below** `Q1 - 1.5 × IQR`\n",
    "- They lie **above** `Q3 + 1.5 × IQR`\n",
    "\n",
    "where `Q1` and `Q3` are the first and third quartiles, respectively."
   ]
  },
  {
   "cell_type": "code",
   "execution_count": 37,
   "id": "e7fc3838",
   "metadata": {},
   "outputs": [
    {
     "name": "stdout",
     "output_type": "stream",
     "text": [
      "Outliers in Survived: 0 found\n",
      "Outliers in Pclass: 0 found\n",
      "Outliers in Age: 65 found\n",
      "Outliers in SibSp: 46 found\n",
      "Outliers in Parch: 213 found\n",
      "Outliers in Fare: 114 found\n"
     ]
    }
   ],
   "source": [
    "def detect_outliers(data, col):\n",
    "    # Compute the first and third quartiles (25th and 75th percentiles)\n",
    "    q1 = data[col].quantile(0.25)\n",
    "    q3 = data[col].quantile(0.75)\n",
    "\n",
    "    # Compute the interquartile range (IQR)\n",
    "    iqr = q3 - q1\n",
    "\n",
    "    # Compute the lower and upper thresholds for outliers\n",
    "    lower_bound = q1 - 1.5 * iqr\n",
    "    upper_bound = q3 + 1.5 * iqr\n",
    "\n",
    "    # Identify outliers\n",
    "    return data[(data[col] < lower_bound) | (data[col] > upper_bound)]\n",
    "\n",
    "\n",
    "# Detect outliers from numeric columns\n",
    "num_cols = train_data_cleaned.select_dtypes(include=[\"int\", \"float\"]).columns\n",
    "\n",
    "# Count how many outliers in each column\n",
    "for col in num_cols:\n",
    "    num_outliers = len(detect_outliers(train_data_cleaned, col))\n",
    "    print(f\"Outliers in {col}: {num_outliers} found\")"
   ]
  },
  {
   "cell_type": "markdown",
   "id": "8996720c",
   "metadata": {},
   "source": [
    "Outliers were found in the following columns:\n",
    "- `Age`\n",
    "- `SibSp`\n",
    "- `Parch`\n",
    "- `Fare`\n",
    "\n",
    "Now, we will be sampling some observations from these features to determine if the outliers represent legitimate data points or may have been caused by data or technical errors."
   ]
  },
  {
   "cell_type": "code",
   "execution_count": 50,
   "id": "169a650b",
   "metadata": {},
   "outputs": [
    {
     "data": {
      "image/png": "[encoded data removed]",
      "text/plain": [
       "<Figure size 640x480 with 1 Axes>"
      ]
     },
     "metadata": {},
     "output_type": "display_data"
    },
    {
     "data": {
      "image/png": "[encoded data removed]",
      "text/plain": [
       "<Figure size 640x480 with 1 Axes>"
      ]
     },
     "metadata": {},
     "output_type": "display_data"
    },
    {
     "data": {
      "image/png": "[encoded data removed]",
      "text/plain": [
       "<Figure size 640x480 with 1 Axes>"
      ]
     },
     "metadata": {},
     "output_type": "display_data"
    },
    {
     "data": {
      "image/png": "[encoded data removed]",
      "text/plain": [
       "<Figure size 640x480 with 1 Axes>"
      ]
     },
     "metadata": {},
     "output_type": "display_data"
    }
   ],
   "source": [
    "cols_with_outliers = [\"Age\", \"SibSp\", \"Parch\", \"Fare\"]\n",
    "\n",
    "# Visualize how outliers are distributed using box plots\n",
    "for col in cols_with_outliers:\n",
    "    sns.boxplot(data=train_data_cleaned, x=col)\n",
    "    plt.title(f\"Box plot of {col}\")\n",
    "    plt.show()"
   ]
  },
  {
   "cell_type": "code",
   "execution_count": 53,
   "id": "47e73266",
   "metadata": {},
   "outputs": [
    {
     "data": {
      "application/vnd.microsoft.datawrangler.viewer.v0+json": {
       "columns": [
        {
         "name": "index",
         "rawType": "int64",
         "type": "integer"
        },
        {
         "name": "PassengerId",
         "rawType": "int64",
         "type": "integer"
        },
        {
         "name": "Survived",
         "rawType": "int64",
         "type": "integer"
        },
        {
         "name": "Pclass",
         "rawType": "int64",
         "type": "integer"
        },
        {
         "name": "Name",
         "rawType": "object",
         "type": "string"
        },
        {
         "name": "Sex",
         "rawType": "object",
         "type": "string"
        },
        {
         "name": "Age",
         "rawType": "float64",
         "type": "float"
        },
        {
         "name": "SibSp",
         "rawType": "int64",
         "type": "integer"
        },
        {
         "name": "Parch",
         "rawType": "int64",
         "type": "integer"
        },
        {
         "name": "Ticket",
         "rawType": "object",
         "type": "string"
        },
        {
         "name": "Fare",
         "rawType": "float64",
         "type": "float"
        },
        {
         "name": "Cabin",
         "rawType": "object",
         "type": "unknown"
        },
        {
         "name": "Embarked",
         "rawType": "object",
         "type": "string"
        }
       ],
       "conversionMethod": "pd.DataFrame",
       "ref": "bf6fa89e-d2ea-4ec8-9c6d-12a25b3b04f4",
       "rows": [
        [
         "258",
         "259",
         "1",
         "1",
         "Ward, Miss. Anna",
         "female",
         "35.0",
         "0",
         "0",
         "PC 17755",
         "512.3292",
         null,
         "C"
        ],
        [
         "679",
         "680",
         "1",
         "1",
         "Cardeza, Mr. Thomas Drake Martinez",
         "male",
         "36.0",
         "0",
         "1",
         "PC 17755",
         "512.3292",
         "B51 B53 B55",
         "C"
        ],
        [
         "737",
         "738",
         "1",
         "1",
         "Lesurer, Mr. Gustave J",
         "male",
         "35.0",
         "0",
         "0",
         "PC 17755",
         "512.3292",
         "B101",
         "C"
        ]
       ],
       "shape": {
        "columns": 12,
        "rows": 3
       }
      },
      "text/html": [
       "<div>\n",
       "<style scoped>\n",
       "    .dataframe tbody tr th:only-of-type {\n",
       "        vertical-align: middle;\n",
       "    }\n",
       "\n",
       "    .dataframe tbody tr th {\n",
       "        vertical-align: top;\n",
       "    }\n",
       "\n",
       "    .dataframe thead th {\n",
       "        text-align: right;\n",
       "    }\n",
       "</style>\n",
       "<table border=\"1\" class=\"dataframe\">\n",
       "  <thead>\n",
       "    <tr style=\"text-align: right;\">\n",
       "      <th></th>\n",
       "      <th>PassengerId</th>\n",
       "      <th>Survived</th>\n",
       "      <th>Pclass</th>\n",
       "      <th>Name</th>\n",
       "      <th>Sex</th>\n",
       "      <th>Age</th>\n",
       "      <th>SibSp</th>\n",
       "      <th>Parch</th>\n",
       "      <th>Ticket</th>\n",
       "      <th>Fare</th>\n",
       "      <th>Cabin</th>\n",
       "      <th>Embarked</th>\n",
       "    </tr>\n",
       "  </thead>\n",
       "  <tbody>\n",
       "    <tr>\n",
       "      <th>258</th>\n",
       "      <td>259</td>\n",
       "      <td>1</td>\n",
       "      <td>1</td>\n",
       "      <td>Ward, Miss. Anna</td>\n",
       "      <td>female</td>\n",
       "      <td>35.0</td>\n",
       "      <td>0</td>\n",
       "      <td>0</td>\n",
       "      <td>PC 17755</td>\n",
       "      <td>512.3292</td>\n",
       "      <td>NaN</td>\n",
       "      <td>C</td>\n",
       "    </tr>\n",
       "    <tr>\n",
       "      <th>679</th>\n",
       "      <td>680</td>\n",
       "      <td>1</td>\n",
       "      <td>1</td>\n",
       "      <td>Cardeza, Mr. Thomas Drake Martinez</td>\n",
       "      <td>male</td>\n",
       "      <td>36.0</td>\n",
       "      <td>0</td>\n",
       "      <td>1</td>\n",
       "      <td>PC 17755</td>\n",
       "      <td>512.3292</td>\n",
       "      <td>B51 B53 B55</td>\n",
       "      <td>C</td>\n",
       "    </tr>\n",
       "    <tr>\n",
       "      <th>737</th>\n",
       "      <td>738</td>\n",
       "      <td>1</td>\n",
       "      <td>1</td>\n",
       "      <td>Lesurer, Mr. Gustave J</td>\n",
       "      <td>male</td>\n",
       "      <td>35.0</td>\n",
       "      <td>0</td>\n",
       "      <td>0</td>\n",
       "      <td>PC 17755</td>\n",
       "      <td>512.3292</td>\n",
       "      <td>B101</td>\n",
       "      <td>C</td>\n",
       "    </tr>\n",
       "  </tbody>\n",
       "</table>\n",
       "</div>"
      ],
      "text/plain": [
       "     PassengerId  Survived  Pclass                                Name  \\\n",
       "258          259         1       1                    Ward, Miss. Anna   \n",
       "679          680         1       1  Cardeza, Mr. Thomas Drake Martinez   \n",
       "737          738         1       1              Lesurer, Mr. Gustave J   \n",
       "\n",
       "        Sex   Age  SibSp  Parch    Ticket      Fare        Cabin Embarked  \n",
       "258  female  35.0      0      0  PC 17755  512.3292          NaN        C  \n",
       "679    male  36.0      0      1  PC 17755  512.3292  B51 B53 B55        C  \n",
       "737    male  35.0      0      0  PC 17755  512.3292         B101        C  "
      ]
     },
     "execution_count": 53,
     "metadata": {},
     "output_type": "execute_result"
    }
   ],
   "source": [
    "train_data[train_data[\"Fare\"] > 400]"
   ]
  },
  {
   "cell_type": "markdown",
   "id": "815a6079",
   "metadata": {},
   "source": [
    "**Findings:**\n",
    "\n",
    "- `Age`: Outliers are present both exceeding the lower and upper thresholds. However, the outliers are still within the expected age range. Outliers in this column could just be a result of the data being concentrated in the 25-30 age range.\n",
    "- `SibSp` and `Parch`: Outliers for these columns are only present exceeding the upper threshold. Outliers in this column could be a result of some passengers having more than the average number of family members aboard with them rather than data entry errors.\n",
    "- `Fare`: Outliers are present exceed only exceeding the upper threshold. Notably, there are far-right outliers that have ticket fares exceeding 500. Upon closer inspection on these rows, considering they were all first class passengers (`Pclass == 1`), it seems they are valid data points and could be passengers booked on the most expensive cabins.\n",
    "\n",
    "**Verdict:**\n",
    "\n",
    "- Upon investigation, although outliers were detected, all of them were still within the realistic range of their respective feature and could have been the result of the majority of the data being tightly concentrated on the median. Therefore, **we will be keeping all outliers** since they probably represent valid data points."
   ]
  },
  {
   "cell_type": "markdown",
   "id": "2df49cfb",
   "metadata": {},
   "source": [
    "# Exploratory Data Analysis"
   ]
  }
 ],
 "metadata": {
  "kernelspec": {
   "display_name": "Python 3",
   "language": "python",
   "name": "python3"
  },
  "language_info": {
   "codemirror_mode": {
    "name": "ipython",
    "version": 3
   },
   "file_extension": ".py",
   "mimetype": "text/x-python",
   "name": "python",
   "nbconvert_exporter": "python",
   "pygments_lexer": "ipython3",
   "version": "3.12.4"
  }
 },
 "nbformat": 4,
 "nbformat_minor": 5
}
